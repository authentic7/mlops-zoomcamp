{
 "cells": [
  {
   "cell_type": "code",
   "execution_count": 1,
   "id": "c77e11c1",
   "metadata": {},
   "outputs": [
    {
     "name": "stdout",
     "output_type": "stream",
     "text": [
      "scikit-learn==1.6.1\n"
     ]
    }
   ],
   "source": [
    "!pip freeze | grep scikit-learn\n"
   ]
  },
  {
   "cell_type": "code",
   "execution_count": 2,
   "id": "69332c69",
   "metadata": {},
   "outputs": [
    {
     "name": "stdout",
     "output_type": "stream",
     "text": [
      "Python 3.12.1\n"
     ]
    }
   ],
   "source": [
    "!python -V\n"
   ]
  },
  {
   "cell_type": "code",
   "execution_count": 3,
   "id": "17fc6fd7",
   "metadata": {},
   "outputs": [],
   "source": [
    "import pickle\n",
    "import pandas as pd"
   ]
  },
  {
   "cell_type": "code",
   "execution_count": 4,
   "id": "2f39e6cb",
   "metadata": {},
   "outputs": [
    {
     "name": "stderr",
     "output_type": "stream",
     "text": [
      "/home/codespace/.local/lib/python3.12/site-packages/sklearn/base.py:380: InconsistentVersionWarning: Trying to unpickle estimator DictVectorizer from version 1.5.0 when using version 1.6.1. This might lead to breaking code or invalid results. Use at your own risk. For more info please refer to:\n",
      "https://scikit-learn.org/stable/model_persistence.html#security-maintainability-limitations\n",
      "  warnings.warn(\n",
      "/home/codespace/.local/lib/python3.12/site-packages/sklearn/base.py:380: InconsistentVersionWarning: Trying to unpickle estimator LinearRegression from version 1.5.0 when using version 1.6.1. This might lead to breaking code or invalid results. Use at your own risk. For more info please refer to:\n",
      "https://scikit-learn.org/stable/model_persistence.html#security-maintainability-limitations\n",
      "  warnings.warn(\n"
     ]
    }
   ],
   "source": [
    "with open('model.bin', 'rb') as f_in:\n",
    "    dv, model = pickle.load(f_in)"
   ]
  },
  {
   "cell_type": "code",
   "execution_count": 5,
   "id": "936c8646",
   "metadata": {},
   "outputs": [],
   "source": [
    "categorical = ['PULocationID', 'DOLocationID']\n",
    "\n",
    "def read_data(filename):\n",
    "    df = pd.read_parquet(filename)\n",
    "    \n",
    "    df['duration'] = df.tpep_dropoff_datetime - df.tpep_pickup_datetime\n",
    "    df['duration'] = df.duration.dt.total_seconds() / 60\n",
    "\n",
    "    df = df[(df.duration >= 1) & (df.duration <= 60)].copy()\n",
    "\n",
    "    df[categorical] = df[categorical].fillna(-1).astype('int').astype('str')\n",
    "    \n",
    "    return df"
   ]
  },
  {
   "cell_type": "code",
   "execution_count": 7,
   "id": "59128ae6",
   "metadata": {},
   "outputs": [],
   "source": [
    "df = read_data('https://d37ci6vzurychx.cloudfront.net/trip-data/yellow_tripdata_2023-03.parquet')\n"
   ]
  },
  {
   "cell_type": "code",
   "execution_count": 8,
   "id": "0cd3e8b1",
   "metadata": {},
   "outputs": [],
   "source": [
    "dicts = df[categorical].to_dict(orient='records')\n",
    "X_val = dv.transform(dicts)\n",
    "y_pred = model.predict(X_val)"
   ]
  },
  {
   "cell_type": "code",
   "execution_count": 10,
   "id": "47a5a8f0",
   "metadata": {},
   "outputs": [
    {
     "name": "stdout",
     "output_type": "stream",
     "text": [
      "6.247488852238703\n"
     ]
    }
   ],
   "source": [
    "print(y_pred.std())"
   ]
  },
  {
   "cell_type": "code",
   "execution_count": null,
   "id": "f5887035",
   "metadata": {},
   "outputs": [],
   "source": [
    "year = 2023\n",
    "month = 3\n",
    "taxi_type = 'yellow'\n",
    "output_file = f'output/{taxi_type}/{year:04d}-{month:02d}.parquet'"
   ]
  },
  {
   "cell_type": "code",
   "execution_count": null,
   "id": "04c05474",
   "metadata": {},
   "outputs": [],
   "source": [
    "df['ride_id'] = f'{year:04d}/{month:02d}_' + df.index.astype('str')"
   ]
  },
  {
   "cell_type": "code",
   "execution_count": 14,
   "id": "08704eb6",
   "metadata": {},
   "outputs": [],
   "source": [
    "df['predicted_duration'] = y_pred"
   ]
  },
  {
   "cell_type": "code",
   "execution_count": null,
   "id": "9bc19637",
   "metadata": {
    "vscode": {
     "languageId": "ruby"
    }
   },
   "outputs": [],
   "source": [
    "def apply_model(df, y_pred, output_file):\n",
    "\n",
    "    df_result = pd.DataFrame()\n",
    "    df_result['ride_id'] = df['ride_id']\n",
    "    df_result['predicted_duration'] = y_pred\n",
    "    #df_result['tpep_pickup_datetime'] = df['tpep_pickup_datetime']\n",
    "    #df_result['PULocationID'] = df['PULocationID']\n",
    "    #df_result['DOLocationID'] = df['DOLocationID']\n",
    "    #df_result['actual_duration'] = df['duration']\n",
    "    \n",
    "    #df_result['diff'] = df_result['actual_duration'] - df_result['predicted_duration']\n",
    "    #df_result['model_version'] = run_id\n",
    "    \n",
    "    df_result.to_parquet(\n",
    "        output_file,\n",
    "        engine='pyarrow',\n",
    "        compression=None,\n",
    "        index=False\n",
    "    )"
   ]
  },
  {
   "cell_type": "code",
   "execution_count": 32,
   "id": "8ce8a508",
   "metadata": {},
   "outputs": [],
   "source": [
    "apply_model(df, y_pred, output_file)"
   ]
  },
  {
   "cell_type": "code",
   "execution_count": null,
   "id": "b06fa039",
   "metadata": {},
   "outputs": [
    {
     "name": "stdout",
     "output_type": "stream",
     "text": [
      "66M\toutput/yellow/2023-03.parquet\n"
     ]
    }
   ],
   "source": [
    "#!du -sh output/yellow/*"
   ]
  },
  {
   "cell_type": "markdown",
   "id": "d7560f67",
   "metadata": {},
   "source": [
    "Q3. Creating the scoring script\n",
    "\n",
    "\n",
    "#jupyter nbconvert --to script starter.ipynb"
   ]
  },
  {
   "cell_type": "code",
   "execution_count": null,
   "id": "3d03b915",
   "metadata": {},
   "outputs": [],
   "source": []
  },
  {
   "cell_type": "markdown",
   "id": "ca305217",
   "metadata": {},
   "source": [
    "\"hashes\": [\n",
    "                \"sha256:057b991ac64b3e75c9c04b5f9395eaf19a6179244c089afdebaad98264bff37c\",  \n",
    "            ],"
   ]
  },
  {
   "cell_type": "markdown",
   "id": "cf76a2e5",
   "metadata": {},
   "source": []
  },
  {
   "cell_type": "markdown",
   "id": "b5b1b1a9",
   "metadata": {},
   "source": [
    "Q6. Docker container\n",
    "\n",
    "predicted mean duration: 0.19174419265916945"
   ]
  },
  {
   "cell_type": "markdown",
   "id": "6867ce53",
   "metadata": {},
   "source": [
    "Q5. Parametrize the script\n",
    "\n",
    "\n",
    "predicted mean duration: 14.292282936862449\n"
   ]
  },
  {
   "cell_type": "markdown",
   "id": "88a3c7d8",
   "metadata": {},
   "source": []
  },
  {
   "cell_type": "code",
   "execution_count": null,
   "id": "e6b5f938",
   "metadata": {},
   "outputs": [],
   "source": []
  },
  {
   "cell_type": "markdown",
   "id": "c355f747",
   "metadata": {},
   "source": []
  }
 ],
 "metadata": {
  "kernelspec": {
   "display_name": "Python 3",
   "language": "python",
   "name": "python3"
  },
  "language_info": {
   "codemirror_mode": {
    "name": "ipython",
    "version": 3
   },
   "file_extension": ".py",
   "mimetype": "text/x-python",
   "name": "python",
   "nbconvert_exporter": "python",
   "pygments_lexer": "ipython3",
   "version": "3.12.1"
  }
 },
 "nbformat": 4,
 "nbformat_minor": 5
}

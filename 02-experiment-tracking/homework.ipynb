{
 "cells": [
  {
   "cell_type": "code",
   "execution_count": 1,
   "id": "9e8c0751",
   "metadata": {},
   "outputs": [
    {
     "data": {
      "text/plain": [
       "'2.22.0'"
      ]
     },
     "execution_count": 1,
     "metadata": {},
     "output_type": "execute_result"
    }
   ],
   "source": [
    "import mlflow\n",
    "mlflow.__version__ "
   ]
  },
  {
   "cell_type": "code",
   "execution_count": null,
   "id": "1d2be159",
   "metadata": {},
   "outputs": [],
   "source": [
    "Parameter Value\n",
    "max_depth 19\n",
    "min_samples_leaf 2\n",
    "min_samples_split 2\n",
    "n_estimators 11\n",
    "random_state 42"
   ]
  },
  {
   "cell_type": "code",
   "execution_count": null,
   "id": "5f6e9441",
   "metadata": {},
   "outputs": [],
   "source": [
    "mlflow server --backend-store-uri sqlite:///mlflow.db --default-artifact-root ./artifacts"
   ]
  },
  {
   "cell_type": "code",
   "execution_count": null,
   "id": "d07a01f0",
   "metadata": {},
   "outputs": [],
   "source": [
    "# best loss: \n",
    "5.33541958855692"
   ]
  },
  {
   "cell_type": "code",
   "execution_count": null,
   "id": "5f3723c9",
   "metadata": {},
   "outputs": [],
   "source": [
    "#test_rmse\t\n",
    "5.567408012462019"
   ]
  }
 ],
 "metadata": {
  "kernelspec": {
   "display_name": "exp-tracking-env",
   "language": "python",
   "name": "python3"
  },
  "language_info": {
   "codemirror_mode": {
    "name": "ipython",
    "version": 3
   },
   "file_extension": ".py",
   "mimetype": "text/x-python",
   "name": "python",
   "nbconvert_exporter": "python",
   "pygments_lexer": "ipython3",
   "version": "3.12.9"
  }
 },
 "nbformat": 4,
 "nbformat_minor": 5
}

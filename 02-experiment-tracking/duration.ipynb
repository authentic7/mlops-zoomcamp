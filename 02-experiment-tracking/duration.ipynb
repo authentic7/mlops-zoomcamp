{
 "cells": [
  {
   "cell_type": "code",
   "execution_count": 1,
   "id": "d06813d9-c0f7-4808-bb81-41c585bdd5a7",
   "metadata": {
    "scrolled": true
   },
   "outputs": [],
   "source": [
    "import pandas as pd"
   ]
  },
  {
   "cell_type": "code",
   "execution_count": 2,
   "id": "3b0e3b83-eccf-4c68-a332-ebf909a3d811",
   "metadata": {},
   "outputs": [],
   "source": [
    "import sklearn"
   ]
  },
  {
   "cell_type": "code",
   "execution_count": 3,
   "id": "4ab0a396-5ed8-4804-9518-1f045bcc815a",
   "metadata": {},
   "outputs": [],
   "source": [
    "\n",
    "from sklearn.feature_extraction import DictVectorizer\n",
    "from sklearn.linear_model import LinearRegression\n",
    "from sklearn.linear_model import Lasso\n",
    "from sklearn.linear_model import Ridge\n",
    "\n",
    "from sklearn.metrics import root_mean_squared_error\n"
   ]
  },
  {
   "cell_type": "code",
   "execution_count": 4,
   "id": "e58a9b92-e0ac-4b53-98cc-8385768fcf79",
   "metadata": {},
   "outputs": [
    {
     "name": "stderr",
     "output_type": "stream",
     "text": [
      "2025/05/10 14:41:46 INFO mlflow.tracking.fluent: Experiment with name 'my_experiment' does not exist. Creating a new experiment.\n"
     ]
    },
    {
     "name": "stdout",
     "output_type": "stream",
     "text": [
      "Tracking URI: sqlite:///mlflow.db\n",
      "Experiment ID: 1\n"
     ]
    }
   ],
   "source": [
    "import mlflow\n",
    "mlflow.set_tracking_uri(\"sqlite:///mlflow.db\")\n",
    "mlflow.set_experiment(\"my_experiment\")\n",
    "\n",
    "print(f\"Tracking URI: {mlflow.get_tracking_uri()}\")\n",
    "print(f\"Experiment ID: {mlflow.get_experiment_by_name('my_experiment').experiment_id}\")"
   ]
  },
  {
   "cell_type": "code",
   "execution_count": null,
   "id": "4cc23c65",
   "metadata": {},
   "outputs": [],
   "source": []
  },
  {
   "cell_type": "code",
   "execution_count": 4,
   "id": "7b4101ee-00b9-4f5c-b55a-a75eb71e4069",
   "metadata": {},
   "outputs": [],
   "source": [
    "df = pd.read_parquet('../data/yellow_tripdata_2023-01.parquet')\n"
   ]
  },
  {
   "cell_type": "code",
   "execution_count": 5,
   "id": "8fb4e487-28dd-4e4e-9cfe-3566a58d33da",
   "metadata": {
    "scrolled": true
   },
   "outputs": [
    {
     "data": {
      "text/plain": [
       "19"
      ]
     },
     "execution_count": 5,
     "metadata": {},
     "output_type": "execute_result"
    }
   ],
   "source": [
    "len(df.columns)"
   ]
  },
  {
   "cell_type": "code",
   "execution_count": 8,
   "id": "c95ce282-97b1-408a-b369-74f4a8a1a4a1",
   "metadata": {},
   "outputs": [
    {
     "data": {
      "text/plain": [
       "count    3.066766e+06\n",
       "mean     1.566900e+01\n",
       "std      4.259435e+01\n",
       "min     -2.920000e+01\n",
       "25%      7.116667e+00\n",
       "50%      1.151667e+01\n",
       "75%      1.830000e+01\n",
       "max      1.002918e+04\n",
       "Name: duration, dtype: float64"
      ]
     },
     "execution_count": 8,
     "metadata": {},
     "output_type": "execute_result"
    }
   ],
   "source": [
    "df.duration.describe()"
   ]
  },
  {
   "cell_type": "code",
   "execution_count": null,
   "id": "76a481ae-5889-4599-84b4-29414a2332a7",
   "metadata": {},
   "outputs": [],
   "source": [
    "42.59\n",
    "std      4.259435e+01"
   ]
  },
  {
   "cell_type": "code",
   "execution_count": 7,
   "id": "5f57fdc9-09db-405f-8e2d-d94246b00bb3",
   "metadata": {},
   "outputs": [],
   "source": [
    "df['duration'] = df.tpep_dropoff_datetime - df.tpep_pickup_datetime\n",
    "df.duration = df.duration.apply(lambda td: td.total_seconds() / 60)"
   ]
  },
  {
   "cell_type": "code",
   "execution_count": 9,
   "id": "26bcac75-0e67-4870-9096-a053090beb45",
   "metadata": {},
   "outputs": [],
   "source": [
    "df = df[(df.duration >= 1) & (df.duration <= 60)]\n"
   ]
  },
  {
   "cell_type": "code",
   "execution_count": 10,
   "id": "d44cf7a3-6f22-4bf9-9ea8-b5c58cb1ed3b",
   "metadata": {},
   "outputs": [
    {
     "data": {
      "text/plain": [
       "Index(['VendorID', 'tpep_pickup_datetime', 'tpep_dropoff_datetime',\n",
       "       'passenger_count', 'trip_distance', 'RatecodeID', 'store_and_fwd_flag',\n",
       "       'PULocationID', 'DOLocationID', 'payment_type', 'fare_amount', 'extra',\n",
       "       'mta_tax', 'tip_amount', 'tolls_amount', 'improvement_surcharge',\n",
       "       'total_amount', 'congestion_surcharge', 'airport_fee', 'duration'],\n",
       "      dtype='object')"
      ]
     },
     "execution_count": 10,
     "metadata": {},
     "output_type": "execute_result"
    }
   ],
   "source": [
    "df.columns"
   ]
  },
  {
   "cell_type": "code",
   "execution_count": 10,
   "id": "9506d18d-a5d8-4a93-b206-9119dc879db5",
   "metadata": {},
   "outputs": [
    {
     "data": {
      "text/plain": [
       "3009173"
      ]
     },
     "execution_count": 10,
     "metadata": {},
     "output_type": "execute_result"
    }
   ],
   "source": [
    "len(df)"
   ]
  },
  {
   "cell_type": "code",
   "execution_count": 11,
   "id": "3b2b893f-7d5e-43ee-b021-5c6fa7e4731e",
   "metadata": {},
   "outputs": [
    {
     "data": {
      "text/plain": [
       "0.9812202822125979"
      ]
     },
     "execution_count": 11,
     "metadata": {},
     "output_type": "execute_result"
    }
   ],
   "source": [
    "3009173/3066766"
   ]
  },
  {
   "cell_type": "code",
   "execution_count": 12,
   "id": "b3531036-1249-4d28-9fac-a0f8d6b1993e",
   "metadata": {},
   "outputs": [
    {
     "name": "stderr",
     "output_type": "stream",
     "text": [
      "/tmp/ipykernel_88003/689847830.py:4: SettingWithCopyWarning: \n",
      "A value is trying to be set on a copy of a slice from a DataFrame.\n",
      "Try using .loc[row_indexer,col_indexer] = value instead\n",
      "\n",
      "See the caveats in the documentation: https://pandas.pydata.org/pandas-docs/stable/user_guide/indexing.html#returning-a-view-versus-a-copy\n",
      "  df[categorical] = df[categorical].astype(str)\n"
     ]
    }
   ],
   "source": [
    "categorical = ['PULocationID', 'DOLocationID']\n",
    "numerical = ['trip_distance']\n",
    "\n",
    "df[categorical] = df[categorical].astype(str) "
   ]
  },
  {
   "cell_type": "code",
   "execution_count": 13,
   "id": "0ba70b91-2c2e-490c-bb67-883fdbcc88ee",
   "metadata": {},
   "outputs": [],
   "source": [
    "train_dicts = df[categorical].to_dict(orient='records')\n",
    "\n",
    "dv = DictVectorizer()\n",
    "X_train = dv.fit_transform(train_dicts)"
   ]
  },
  {
   "cell_type": "code",
   "execution_count": 15,
   "id": "5ed1fd3f-44bc-43c9-8c9e-d9b7347ab46f",
   "metadata": {},
   "outputs": [
    {
     "data": {
      "text/plain": [
       "(3009173, 515)"
      ]
     },
     "execution_count": 15,
     "metadata": {},
     "output_type": "execute_result"
    }
   ],
   "source": [
    "X_train.shape"
   ]
  },
  {
   "cell_type": "code",
   "execution_count": 16,
   "id": "f3575a34-9ea3-4b5b-9d33-0c4b71331676",
   "metadata": {},
   "outputs": [
    {
     "data": {
      "text/plain": [
       "7.649261932106969"
      ]
     },
     "execution_count": 16,
     "metadata": {},
     "output_type": "execute_result"
    }
   ],
   "source": [
    "target = 'duration'\n",
    "y_train = df[target].values\n",
    "\n",
    "lr = LinearRegression()\n",
    "lr.fit(X_train, y_train)\n",
    "\n",
    "y_pred = lr.predict(X_train)\n",
    "\n",
    "root_mean_squared_error(y_train, y_pred)"
   ]
  },
  {
   "cell_type": "code",
   "execution_count": null,
   "id": "8163e5d9-794c-4b8f-8fcb-6d39490a89e0",
   "metadata": {},
   "outputs": [],
   "source": []
  },
  {
   "cell_type": "code",
   "execution_count": null,
   "id": "34a3029c-231a-4415-8e4f-c573a31302a6",
   "metadata": {},
   "outputs": [],
   "source": []
  },
  {
   "cell_type": "code",
   "execution_count": null,
   "id": "bbb6c1f5-51ac-477c-b95a-8fdbe6a38aa7",
   "metadata": {},
   "outputs": [],
   "source": [
    "df"
   ]
  },
  {
   "cell_type": "code",
   "execution_count": null,
   "id": "5acf8f18-57b3-4dbc-8744-0c87e85f40e6",
   "metadata": {},
   "outputs": [],
   "source": [
    "df['duration'] = df.lpep_dropoff_datetime - df.lpep_pickup_datetime\n",
    "df.duration = df.duration.apply(lambda td: td.total_seconds() / 60)"
   ]
  },
  {
   "cell_type": "code",
   "execution_count": null,
   "id": "67da15d4-a845-4e45-aa1b-4dbc4bdee5a6",
   "metadata": {
    "scrolled": true
   },
   "outputs": [],
   "source": [
    "df = df[(df.duration >= 1) & (df.duration <= 60)]\n",
    "\n",
    "categorical = ['PULocationID', 'DOLocationID']\n",
    "numerical = ['trip_distance']\n",
    "\n",
    "df[categorical] = df[categorical].astype(str)"
   ]
  },
  {
   "cell_type": "code",
   "execution_count": null,
   "id": "31c70988-ec04-4a4a-8586-5a5d9155d6b5",
   "metadata": {},
   "outputs": [],
   "source": [
    "train_dicts = df[categorical + numerical].to_dict(orient='records')\n",
    "\n",
    "dv = DictVectorizer()\n",
    "X_train = dv.fit_transform(train_dicts)\n",
    "\n",
    "target = 'duration'\n",
    "y_train = df[target].values\n",
    "\n",
    "lr = LinearRegression()\n",
    "lr.fit(X_train, y_train)\n",
    "\n",
    "y_pred = lr.predict(X_train)\n",
    "\n",
    "root_mean_squared_error(y_train, y_pred)"
   ]
  },
  {
   "cell_type": "code",
   "execution_count": null,
   "id": "249614f0-f4cd-4b67-92bb-09ad2149e21e",
   "metadata": {
    "scrolled": true
   },
   "outputs": [],
   "source": [
    "import seaborn as sns\n",
    "import matplotlib.pyplot as plt\n",
    "sns.distplot(y_pred, label='prediction')\n",
    "sns.distplot(y_train, label='actual')\n",
    "\n",
    "plt.legend()"
   ]
  },
  {
   "cell_type": "code",
   "execution_count": 8,
   "id": "0c825bc6-f698-4901-ac47-5712c877ecfe",
   "metadata": {},
   "outputs": [
    {
     "name": "stdout",
     "output_type": "stream",
     "text": [
      "Collecting pyarrow\n",
      "  Downloading pyarrow-20.0.0-cp312-cp312-manylinux_2_28_x86_64.whl.metadata (3.3 kB)\n",
      "Downloading pyarrow-20.0.0-cp312-cp312-manylinux_2_28_x86_64.whl (42.3 MB)\n",
      "\u001b[2K   \u001b[38;2;114;156;31m━━━━━━━━━━━━━━━━━━━━━━━━━━━━━━━━━━━━━━━━\u001b[0m \u001b[32m42.3/42.3 MB\u001b[0m \u001b[31m35.7 MB/s\u001b[0m eta \u001b[36m0:00:00\u001b[0mm eta \u001b[36m0:00:01\u001b[0m0:01\u001b[0m:01\u001b[0m\n",
      "\u001b[?25hInstalling collected packages: pyarrow\n",
      "Successfully installed pyarrow-20.0.0\n",
      "\n",
      "\u001b[1m[\u001b[0m\u001b[34;49mnotice\u001b[0m\u001b[1;39;49m]\u001b[0m\u001b[39;49m A new release of pip is available: \u001b[0m\u001b[31;49m25.0.1\u001b[0m\u001b[39;49m -> \u001b[0m\u001b[32;49m25.1.1\u001b[0m\n",
      "\u001b[1m[\u001b[0m\u001b[34;49mnotice\u001b[0m\u001b[1;39;49m]\u001b[0m\u001b[39;49m To update, run: \u001b[0m\u001b[32;49mpython3 -m pip install --upgrade pip\u001b[0m\n"
     ]
    }
   ],
   "source": [
    "!pip install pyarrow"
   ]
  },
  {
   "cell_type": "code",
   "execution_count": 9,
   "id": "8d859213-9083-403f-abaa-f1052bfd1dcd",
   "metadata": {},
   "outputs": [
    {
     "name": "stdout",
     "output_type": "stream",
     "text": [
      "Collecting fastparquet\n",
      "  Downloading fastparquet-2024.11.0-cp312-cp312-manylinux_2_17_x86_64.manylinux2014_x86_64.whl.metadata (4.2 kB)\n",
      "Requirement already satisfied: pandas>=1.5.0 in /home/codespace/.local/lib/python3.12/site-packages (from fastparquet) (2.2.3)\n",
      "Requirement already satisfied: numpy in /home/codespace/.local/lib/python3.12/site-packages (from fastparquet) (2.2.4)\n",
      "Collecting cramjam>=2.3 (from fastparquet)\n",
      "  Downloading cramjam-2.10.0-cp312-cp312-manylinux_2_17_x86_64.manylinux2014_x86_64.whl.metadata (5.0 kB)\n",
      "Requirement already satisfied: fsspec in /home/codespace/.local/lib/python3.12/site-packages (from fastparquet) (2024.6.1)\n",
      "Requirement already satisfied: packaging in /home/codespace/.local/lib/python3.12/site-packages (from fastparquet) (24.2)\n",
      "Requirement already satisfied: python-dateutil>=2.8.2 in /home/codespace/.local/lib/python3.12/site-packages (from pandas>=1.5.0->fastparquet) (2.9.0.post0)\n",
      "Requirement already satisfied: pytz>=2020.1 in /home/codespace/.local/lib/python3.12/site-packages (from pandas>=1.5.0->fastparquet) (2025.1)\n",
      "Requirement already satisfied: tzdata>=2022.7 in /home/codespace/.local/lib/python3.12/site-packages (from pandas>=1.5.0->fastparquet) (2025.1)\n",
      "Requirement already satisfied: six>=1.5 in /home/codespace/.local/lib/python3.12/site-packages (from python-dateutil>=2.8.2->pandas>=1.5.0->fastparquet) (1.17.0)\n",
      "Downloading fastparquet-2024.11.0-cp312-cp312-manylinux_2_17_x86_64.manylinux2014_x86_64.whl (1.8 MB)\n",
      "\u001b[2K   \u001b[38;2;114;156;31m━━━━━━━━━━━━━━━━━━━━━━━━━━━━━━━━━━━━━━━━\u001b[0m \u001b[32m1.8/1.8 MB\u001b[0m \u001b[31m9.5 MB/s\u001b[0m eta \u001b[36m0:00:00\u001b[0m[31m6.7 MB/s\u001b[0m eta \u001b[36m0:00:01\u001b[0m\n",
      "\u001b[?25hDownloading cramjam-2.10.0-cp312-cp312-manylinux_2_17_x86_64.manylinux2014_x86_64.whl (2.0 MB)\n",
      "\u001b[2K   \u001b[38;2;114;156;31m━━━━━━━━━━━━━━━━━━━━━━━━━━━━━━━━━━━━━━━━\u001b[0m \u001b[32m2.0/2.0 MB\u001b[0m \u001b[31m21.9 MB/s\u001b[0m eta \u001b[36m0:00:00\u001b[0m\n",
      "\u001b[?25hInstalling collected packages: cramjam, fastparquet\n",
      "Successfully installed cramjam-2.10.0 fastparquet-2024.11.0\n",
      "\n",
      "\u001b[1m[\u001b[0m\u001b[34;49mnotice\u001b[0m\u001b[1;39;49m]\u001b[0m\u001b[39;49m A new release of pip is available: \u001b[0m\u001b[31;49m25.0.1\u001b[0m\u001b[39;49m -> \u001b[0m\u001b[32;49m25.1.1\u001b[0m\n",
      "\u001b[1m[\u001b[0m\u001b[34;49mnotice\u001b[0m\u001b[1;39;49m]\u001b[0m\u001b[39;49m To update, run: \u001b[0m\u001b[32;49mpython3 -m pip install --upgrade pip\u001b[0m\n"
     ]
    }
   ],
   "source": [
    "!pip install fastparquet"
   ]
  },
  {
   "cell_type": "markdown",
   "id": "edc8e035-ac00-4c6b-8b94-1a8924403cf9",
   "metadata": {},
   "source": [
    "Q6. Evaluating the model\n"
   ]
  },
  {
   "cell_type": "code",
   "execution_count": 5,
   "id": "661fff7c-c626-494e-8007-9681bfa80ddf",
   "metadata": {},
   "outputs": [],
   "source": [
    "import pandas as pd\n",
    "def read_dataframe(filename):\n",
    "    df = pd.read_parquet(filename, columns=['trip_distance','tpep_dropoff_datetime', 'tpep_pickup_datetime', 'PULocationID', 'DOLocationID'])\n",
    "\n",
    "    df['duration'] = df.tpep_dropoff_datetime - df.tpep_pickup_datetime\n",
    "    df.duration = df.duration.apply(lambda td: td.total_seconds() / 60)\n",
    "\n",
    "    df = df[(df.duration >= 1) & (df.duration <= 60)]\n",
    "\n",
    "    categorical = ['PULocationID', 'DOLocationID']\n",
    "    df[categorical] = df[categorical].astype(str)\n",
    "    \n",
    "    return df"
   ]
  },
  {
   "cell_type": "code",
   "execution_count": 6,
   "id": "ffe4fd77-7458-4a9a-aee9-85e9d8173366",
   "metadata": {},
   "outputs": [],
   "source": [
    "df_train = read_dataframe('../01-intro/data/yellow_tripdata_2023-01.parquet')\n",
    "df_val = read_dataframe('../01-intro/data/yellow_tripdata_2023-02.parquet')"
   ]
  },
  {
   "cell_type": "code",
   "execution_count": null,
   "id": "57096bc0-402e-43f8-8080-4b28bf69c872",
   "metadata": {},
   "outputs": [],
   "source": []
  },
  {
   "cell_type": "code",
   "execution_count": 6,
   "id": "afb811de-74dc-4bb0-a7ee-fb40b50448fd",
   "metadata": {},
   "outputs": [],
   "source": []
  },
  {
   "cell_type": "code",
   "execution_count": 7,
   "id": "61208248-bea1-4ebd-8581-8ccb300600a7",
   "metadata": {},
   "outputs": [
    {
     "data": {
      "text/plain": [
       "(3009173, 2855951)"
      ]
     },
     "execution_count": 7,
     "metadata": {},
     "output_type": "execute_result"
    }
   ],
   "source": [
    "len(df_train), len(df_val)\n"
   ]
  },
  {
   "cell_type": "code",
   "execution_count": 9,
   "id": "734f3526-db32-4db3-98ce-9ca9c10c2969",
   "metadata": {},
   "outputs": [],
   "source": [
    "df_train['PU_DO'] = df_train['PULocationID'] + '_' + df_train['DOLocationID']\n",
    "df_val['PU_DO'] = df_val['PULocationID'] + '_' + df_val['DOLocationID']"
   ]
  },
  {
   "cell_type": "code",
   "execution_count": 7,
   "id": "f723a0e9-4669-4156-a4f5-0fec62bb4816",
   "metadata": {},
   "outputs": [],
   "source": [
    "categorical =  ['PULocationID', 'DOLocationID'] #['PU_DO']\n",
    "numerical = ['trip_distance']\n",
    "\n",
    "dv = DictVectorizer()\n",
    "\n",
    "train_dicts = df_train[categorical + numerical].to_dict(orient='records')\n",
    "X_train = dv.fit_transform(train_dicts)\n",
    "\n",
    "val_dicts = df_val[categorical + numerical].to_dict(orient='records')\n",
    "X_val = dv.transform(val_dicts)"
   ]
  },
  {
   "cell_type": "code",
   "execution_count": 8,
   "id": "c34a351f-b538-4958-850e-2719a6db4d55",
   "metadata": {},
   "outputs": [],
   "source": [
    "target = 'duration'\n",
    "y_train = df_train[target].values\n",
    "y_val = df_val[target].values"
   ]
  },
  {
   "cell_type": "code",
   "execution_count": 12,
   "id": "1f6b14dc-a0c2-4810-a37e-8ae6e6ac3651",
   "metadata": {},
   "outputs": [
    {
     "data": {
      "text/plain": [
       "7.820259863004852"
      ]
     },
     "execution_count": 12,
     "metadata": {},
     "output_type": "execute_result"
    }
   ],
   "source": [
    "lr = LinearRegression()\n",
    "lr.fit(X_train, y_train)\n",
    "\n",
    "y_pred = lr.predict(X_val)\n",
    "\n",
    "root_mean_squared_error(y_val, y_pred)\n"
   ]
  },
  {
   "cell_type": "code",
   "execution_count": 12,
   "id": "2b2c0f3f-7dc3-4e6e-a30b-4ce3185f93e6",
   "metadata": {},
   "outputs": [],
   "source": [
    "import pickle\n",
    "with open('models/lin_reg.bin', 'wb') as f_out:\n",
    "    pickle.dump((dv, lr), f_out)"
   ]
  },
  {
   "cell_type": "code",
   "execution_count": 12,
   "id": "b2a1abfc-bade-404c-83ac-b5f1980ef75f",
   "metadata": {},
   "outputs": [
    {
     "name": "stdout",
     "output_type": "stream",
     "text": [
      "/workspaces/mlops-zoomcamp/02-experiment-tracking\n"
     ]
    }
   ],
   "source": [
    "!pwd"
   ]
  },
  {
   "cell_type": "code",
   "execution_count": 9,
   "id": "f5bee8ce-3ac2-4ddb-840a-954b2b9e6045",
   "metadata": {},
   "outputs": [],
   "source": [
    "with mlflow.start_run():\n",
    "    mlflow.set_tag(\"developer\", \"Duman\")\n",
    "\n",
    "    mlflow.log_param(\"train_path\", \"data/yellow_tripdata_2023-01.parquet\")\n",
    "    mlflow.log_param(\"val_path\", \"data/yellow_tripdata_2023-02.parquet\")\n",
    "\n",
    "    alpha = 0.01\n",
    "    mlflow.log_param(\"alpha\", alpha)\n",
    "    lr = Lasso(alpha)\n",
    "    lr.fit(X_train, y_train)\n",
    "\n",
    "    y_pred = lr.predict(X_val)\n",
    "\n",
    "    rmse = root_mean_squared_error(y_val, y_pred)\n",
    "    mlflow.log_metric(\"rmse\", rmse)"
   ]
  },
  {
   "cell_type": "code",
   "execution_count": 11,
   "id": "618f8368-7744-41f3-888d-ee4732dd2cc3",
   "metadata": {},
   "outputs": [],
   "source": [
    "import xgboost as xgb\n"
   ]
  },
  {
   "cell_type": "code",
   "execution_count": 12,
   "id": "189771a6-982d-4989-ba72-b336aec9079f",
   "metadata": {},
   "outputs": [],
   "source": [
    "from hyperopt import fmin, tpe, hp, STATUS_OK, Trials\n",
    "from hyperopt.pyll import scope"
   ]
  },
  {
   "cell_type": "code",
   "execution_count": 16,
   "id": "95ab7167",
   "metadata": {},
   "outputs": [],
   "source": [
    "from sklearn.metrics import mean_squared_error\n"
   ]
  },
  {
   "cell_type": "code",
   "execution_count": 13,
   "id": "c2ba4a93",
   "metadata": {},
   "outputs": [],
   "source": [
    "train = xgb.DMatrix(X_train, label=y_train)\n",
    "valid = xgb.DMatrix(X_val, label=y_val)"
   ]
  },
  {
   "cell_type": "code",
   "execution_count": 14,
   "id": "f9ddbbd9",
   "metadata": {},
   "outputs": [],
   "source": [
    "def objective(params):\n",
    "    with mlflow.start_run():\n",
    "        mlflow.set_tag(\"model\", \"xgboost\")\n",
    "        mlflow.log_params(params)\n",
    "        booster = xgb.train(\n",
    "            params=params,\n",
    "            dtrain=train,\n",
    "            num_boost_round=1000,\n",
    "            evals=[(valid, 'validation')],\n",
    "            early_stopping_rounds=50\n",
    "        )\n",
    "        y_pred = booster.predict(valid)\n",
    "        rmse = mean_squared_error(y_val, y_pred, squared=False)\n",
    "        mlflow.log_metric(\"rmse\", rmse)\n",
    "\n",
    "    return {'loss': rmse, 'status': STATUS_OK}"
   ]
  },
  {
   "cell_type": "code",
   "execution_count": 15,
   "id": "471fe19c",
   "metadata": {},
   "outputs": [
    {
     "name": "stdout",
     "output_type": "stream",
     "text": [
      "  0%|          | 0/50 [00:00<?, ?trial/s, best loss=?]"
     ]
    },
    {
     "name": "stderr",
     "output_type": "stream",
     "text": [
      "/opt/conda/envs/exp-tracking-env/lib/python3.12/site-packages/xgboost/callback.py:386: UserWarning: [14:55:23] WARNING: /workspace/src/objective/regression_obj.cu:250: reg:linear is now deprecated in favor of reg:squarederror.\n",
      "  self.starting_round = model.num_boosted_rounds()\n",
      "\n"
     ]
    },
    {
     "name": "stdout",
     "output_type": "stream",
     "text": [
      "[0]\tvalidation-rmse:7.97700                           \n",
      "[1]\tvalidation-rmse:6.61226                           \n",
      "[2]\tvalidation-rmse:5.77668                           \n",
      "[3]\tvalidation-rmse:5.27266                           \n",
      "[4]\tvalidation-rmse:4.98983                           \n",
      "[5]\tvalidation-rmse:4.82649                           \n",
      "[6]\tvalidation-rmse:4.73911                           \n",
      "[7]\tvalidation-rmse:4.68806                           \n",
      "[8]\tvalidation-rmse:4.66142                           \n",
      "[9]\tvalidation-rmse:4.64668                           \n",
      "[10]\tvalidation-rmse:4.63765                          \n",
      "[11]\tvalidation-rmse:4.63391                          \n",
      "[12]\tvalidation-rmse:4.63184                          \n",
      "[13]\tvalidation-rmse:4.63152                          \n",
      "[14]\tvalidation-rmse:4.63180                          \n",
      "[15]\tvalidation-rmse:4.63248                          \n",
      "[16]\tvalidation-rmse:4.63361                          \n",
      "[17]\tvalidation-rmse:4.63525                          \n",
      "[18]\tvalidation-rmse:4.63603                          \n",
      "[19]\tvalidation-rmse:4.63713                          \n",
      "[20]\tvalidation-rmse:4.63873                          \n",
      "[21]\tvalidation-rmse:4.63952                          \n",
      "[22]\tvalidation-rmse:4.64019                          \n",
      "[23]\tvalidation-rmse:4.64101                          \n",
      "[24]\tvalidation-rmse:4.64142                          \n",
      "[25]\tvalidation-rmse:4.64229                          \n",
      "[26]\tvalidation-rmse:4.64248                          \n",
      "[27]\tvalidation-rmse:4.64401                          \n",
      "[28]\tvalidation-rmse:4.64404                          \n",
      "[29]\tvalidation-rmse:4.64448                          \n",
      "[30]\tvalidation-rmse:4.64488                          \n",
      "[31]\tvalidation-rmse:4.64544                          \n",
      "[32]\tvalidation-rmse:4.64575                          \n",
      "[33]\tvalidation-rmse:4.64611                          \n",
      "[34]\tvalidation-rmse:4.64708                          \n",
      "[35]\tvalidation-rmse:4.64788                          \n",
      "[36]\tvalidation-rmse:4.64951                          \n",
      "[37]\tvalidation-rmse:4.64998                          \n",
      "[38]\tvalidation-rmse:4.65030                          \n",
      "[39]\tvalidation-rmse:4.65087                          \n",
      "[40]\tvalidation-rmse:4.65165                          \n",
      "[41]\tvalidation-rmse:4.65251                          \n",
      "[42]\tvalidation-rmse:4.65351                          \n",
      "[43]\tvalidation-rmse:4.65447                          \n",
      "[44]\tvalidation-rmse:4.65580                          \n",
      "[45]\tvalidation-rmse:4.65623                          \n",
      "[46]\tvalidation-rmse:4.65724                          \n",
      "[47]\tvalidation-rmse:4.65786                          \n",
      "[48]\tvalidation-rmse:4.65813                          \n",
      "[49]\tvalidation-rmse:4.65899                          \n",
      "[50]\tvalidation-rmse:4.65955                          \n",
      "[51]\tvalidation-rmse:4.66100                          \n",
      "[52]\tvalidation-rmse:4.66176                          \n",
      "[53]\tvalidation-rmse:4.66208                          \n",
      "[54]\tvalidation-rmse:4.66311                          \n",
      "[55]\tvalidation-rmse:4.66403                          \n",
      "[56]\tvalidation-rmse:4.66455                          \n",
      "[57]\tvalidation-rmse:4.66475                          \n",
      "[58]\tvalidation-rmse:4.66514                          \n",
      "[59]\tvalidation-rmse:4.66578                          \n",
      "[60]\tvalidation-rmse:4.66737                          \n",
      "[61]\tvalidation-rmse:4.66831                          \n",
      "[62]\tvalidation-rmse:4.66868                          \n",
      "  0%|          | 0/50 [02:06<?, ?trial/s, best loss=?]"
     ]
    },
    {
     "name": "stderr",
     "output_type": "stream",
     "text": [
      "job exception: name 'mean_squared_error' is not defined\n",
      "\n"
     ]
    },
    {
     "name": "stdout",
     "output_type": "stream",
     "text": [
      "  0%|          | 0/50 [03:39<?, ?trial/s, best loss=?]\n"
     ]
    },
    {
     "ename": "NameError",
     "evalue": "name 'mean_squared_error' is not defined",
     "output_type": "error",
     "traceback": [
      "\u001b[31m---------------------------------------------------------------------------\u001b[39m",
      "\u001b[31mNameError\u001b[39m                                 Traceback (most recent call last)",
      "\u001b[36mCell\u001b[39m\u001b[36m \u001b[39m\u001b[32mIn[15]\u001b[39m\u001b[32m, line 11\u001b[39m\n\u001b[32m      1\u001b[39m search_space = {\n\u001b[32m      2\u001b[39m     \u001b[33m'\u001b[39m\u001b[33mmax_depth\u001b[39m\u001b[33m'\u001b[39m: scope.int(hp.quniform(\u001b[33m'\u001b[39m\u001b[33mmax_depth\u001b[39m\u001b[33m'\u001b[39m, \u001b[32m4\u001b[39m, \u001b[32m100\u001b[39m, \u001b[32m1\u001b[39m)),\n\u001b[32m      3\u001b[39m     \u001b[33m'\u001b[39m\u001b[33mlearning_rate\u001b[39m\u001b[33m'\u001b[39m: hp.loguniform(\u001b[33m'\u001b[39m\u001b[33mlearning_rate\u001b[39m\u001b[33m'\u001b[39m, -\u001b[32m3\u001b[39m, \u001b[32m0\u001b[39m),\n\u001b[32m   (...)\u001b[39m\u001b[32m      8\u001b[39m     \u001b[33m'\u001b[39m\u001b[33mseed\u001b[39m\u001b[33m'\u001b[39m: \u001b[32m42\u001b[39m\n\u001b[32m      9\u001b[39m }\n\u001b[32m---> \u001b[39m\u001b[32m11\u001b[39m best_result = \u001b[43mfmin\u001b[49m\u001b[43m(\u001b[49m\n\u001b[32m     12\u001b[39m \u001b[43m    \u001b[49m\u001b[43mfn\u001b[49m\u001b[43m=\u001b[49m\u001b[43mobjective\u001b[49m\u001b[43m,\u001b[49m\n\u001b[32m     13\u001b[39m \u001b[43m    \u001b[49m\u001b[43mspace\u001b[49m\u001b[43m=\u001b[49m\u001b[43msearch_space\u001b[49m\u001b[43m,\u001b[49m\n\u001b[32m     14\u001b[39m \u001b[43m    \u001b[49m\u001b[43malgo\u001b[49m\u001b[43m=\u001b[49m\u001b[43mtpe\u001b[49m\u001b[43m.\u001b[49m\u001b[43msuggest\u001b[49m\u001b[43m,\u001b[49m\n\u001b[32m     15\u001b[39m \u001b[43m    \u001b[49m\u001b[43mmax_evals\u001b[49m\u001b[43m=\u001b[49m\u001b[32;43m50\u001b[39;49m\u001b[43m,\u001b[49m\n\u001b[32m     16\u001b[39m \u001b[43m    \u001b[49m\u001b[43mtrials\u001b[49m\u001b[43m=\u001b[49m\u001b[43mTrials\u001b[49m\u001b[43m(\u001b[49m\u001b[43m)\u001b[49m\n\u001b[32m     17\u001b[39m \u001b[43m)\u001b[49m\n",
      "\u001b[36mFile \u001b[39m\u001b[32m/opt/conda/envs/exp-tracking-env/lib/python3.12/site-packages/hyperopt/fmin.py:540\u001b[39m, in \u001b[36mfmin\u001b[39m\u001b[34m(fn, space, algo, max_evals, timeout, loss_threshold, trials, rstate, allow_trials_fmin, pass_expr_memo_ctrl, catch_eval_exceptions, verbose, return_argmin, points_to_evaluate, max_queue_len, show_progressbar, early_stop_fn, trials_save_file)\u001b[39m\n\u001b[32m    537\u001b[39m     fn = __objective_fmin_wrapper(fn)\n\u001b[32m    539\u001b[39m \u001b[38;5;28;01mif\u001b[39;00m allow_trials_fmin \u001b[38;5;129;01mand\u001b[39;00m \u001b[38;5;28mhasattr\u001b[39m(trials, \u001b[33m\"\u001b[39m\u001b[33mfmin\u001b[39m\u001b[33m\"\u001b[39m):\n\u001b[32m--> \u001b[39m\u001b[32m540\u001b[39m     \u001b[38;5;28;01mreturn\u001b[39;00m \u001b[43mtrials\u001b[49m\u001b[43m.\u001b[49m\u001b[43mfmin\u001b[49m\u001b[43m(\u001b[49m\n\u001b[32m    541\u001b[39m \u001b[43m        \u001b[49m\u001b[43mfn\u001b[49m\u001b[43m,\u001b[49m\n\u001b[32m    542\u001b[39m \u001b[43m        \u001b[49m\u001b[43mspace\u001b[49m\u001b[43m,\u001b[49m\n\u001b[32m    543\u001b[39m \u001b[43m        \u001b[49m\u001b[43malgo\u001b[49m\u001b[43m=\u001b[49m\u001b[43malgo\u001b[49m\u001b[43m,\u001b[49m\n\u001b[32m    544\u001b[39m \u001b[43m        \u001b[49m\u001b[43mmax_evals\u001b[49m\u001b[43m=\u001b[49m\u001b[43mmax_evals\u001b[49m\u001b[43m,\u001b[49m\n\u001b[32m    545\u001b[39m \u001b[43m        \u001b[49m\u001b[43mtimeout\u001b[49m\u001b[43m=\u001b[49m\u001b[43mtimeout\u001b[49m\u001b[43m,\u001b[49m\n\u001b[32m    546\u001b[39m \u001b[43m        \u001b[49m\u001b[43mloss_threshold\u001b[49m\u001b[43m=\u001b[49m\u001b[43mloss_threshold\u001b[49m\u001b[43m,\u001b[49m\n\u001b[32m    547\u001b[39m \u001b[43m        \u001b[49m\u001b[43mmax_queue_len\u001b[49m\u001b[43m=\u001b[49m\u001b[43mmax_queue_len\u001b[49m\u001b[43m,\u001b[49m\n\u001b[32m    548\u001b[39m \u001b[43m        \u001b[49m\u001b[43mrstate\u001b[49m\u001b[43m=\u001b[49m\u001b[43mrstate\u001b[49m\u001b[43m,\u001b[49m\n\u001b[32m    549\u001b[39m \u001b[43m        \u001b[49m\u001b[43mpass_expr_memo_ctrl\u001b[49m\u001b[43m=\u001b[49m\u001b[43mpass_expr_memo_ctrl\u001b[49m\u001b[43m,\u001b[49m\n\u001b[32m    550\u001b[39m \u001b[43m        \u001b[49m\u001b[43mverbose\u001b[49m\u001b[43m=\u001b[49m\u001b[43mverbose\u001b[49m\u001b[43m,\u001b[49m\n\u001b[32m    551\u001b[39m \u001b[43m        \u001b[49m\u001b[43mcatch_eval_exceptions\u001b[49m\u001b[43m=\u001b[49m\u001b[43mcatch_eval_exceptions\u001b[49m\u001b[43m,\u001b[49m\n\u001b[32m    552\u001b[39m \u001b[43m        \u001b[49m\u001b[43mreturn_argmin\u001b[49m\u001b[43m=\u001b[49m\u001b[43mreturn_argmin\u001b[49m\u001b[43m,\u001b[49m\n\u001b[32m    553\u001b[39m \u001b[43m        \u001b[49m\u001b[43mshow_progressbar\u001b[49m\u001b[43m=\u001b[49m\u001b[43mshow_progressbar\u001b[49m\u001b[43m,\u001b[49m\n\u001b[32m    554\u001b[39m \u001b[43m        \u001b[49m\u001b[43mearly_stop_fn\u001b[49m\u001b[43m=\u001b[49m\u001b[43mearly_stop_fn\u001b[49m\u001b[43m,\u001b[49m\n\u001b[32m    555\u001b[39m \u001b[43m        \u001b[49m\u001b[43mtrials_save_file\u001b[49m\u001b[43m=\u001b[49m\u001b[43mtrials_save_file\u001b[49m\u001b[43m,\u001b[49m\n\u001b[32m    556\u001b[39m \u001b[43m    \u001b[49m\u001b[43m)\u001b[49m\n\u001b[32m    558\u001b[39m \u001b[38;5;28;01mif\u001b[39;00m trials \u001b[38;5;129;01mis\u001b[39;00m \u001b[38;5;28;01mNone\u001b[39;00m:\n\u001b[32m    559\u001b[39m     \u001b[38;5;28;01mif\u001b[39;00m os.path.exists(trials_save_file):\n",
      "\u001b[36mFile \u001b[39m\u001b[32m/opt/conda/envs/exp-tracking-env/lib/python3.12/site-packages/hyperopt/base.py:671\u001b[39m, in \u001b[36mTrials.fmin\u001b[39m\u001b[34m(self, fn, space, algo, max_evals, timeout, loss_threshold, max_queue_len, rstate, verbose, pass_expr_memo_ctrl, catch_eval_exceptions, return_argmin, show_progressbar, early_stop_fn, trials_save_file)\u001b[39m\n\u001b[32m    666\u001b[39m \u001b[38;5;66;03m# -- Stop-gap implementation!\u001b[39;00m\n\u001b[32m    667\u001b[39m \u001b[38;5;66;03m#    fmin should have been a Trials method in the first place\u001b[39;00m\n\u001b[32m    668\u001b[39m \u001b[38;5;66;03m#    but for now it's still sitting in another file.\u001b[39;00m\n\u001b[32m    669\u001b[39m \u001b[38;5;28;01mfrom\u001b[39;00m\u001b[38;5;250m \u001b[39m\u001b[34;01m.\u001b[39;00m\u001b[34;01mfmin\u001b[39;00m\u001b[38;5;250m \u001b[39m\u001b[38;5;28;01mimport\u001b[39;00m fmin\n\u001b[32m--> \u001b[39m\u001b[32m671\u001b[39m \u001b[38;5;28;01mreturn\u001b[39;00m \u001b[43mfmin\u001b[49m\u001b[43m(\u001b[49m\n\u001b[32m    672\u001b[39m \u001b[43m    \u001b[49m\u001b[43mfn\u001b[49m\u001b[43m,\u001b[49m\n\u001b[32m    673\u001b[39m \u001b[43m    \u001b[49m\u001b[43mspace\u001b[49m\u001b[43m,\u001b[49m\n\u001b[32m    674\u001b[39m \u001b[43m    \u001b[49m\u001b[43malgo\u001b[49m\u001b[43m=\u001b[49m\u001b[43malgo\u001b[49m\u001b[43m,\u001b[49m\n\u001b[32m    675\u001b[39m \u001b[43m    \u001b[49m\u001b[43mmax_evals\u001b[49m\u001b[43m=\u001b[49m\u001b[43mmax_evals\u001b[49m\u001b[43m,\u001b[49m\n\u001b[32m    676\u001b[39m \u001b[43m    \u001b[49m\u001b[43mtimeout\u001b[49m\u001b[43m=\u001b[49m\u001b[43mtimeout\u001b[49m\u001b[43m,\u001b[49m\n\u001b[32m    677\u001b[39m \u001b[43m    \u001b[49m\u001b[43mloss_threshold\u001b[49m\u001b[43m=\u001b[49m\u001b[43mloss_threshold\u001b[49m\u001b[43m,\u001b[49m\n\u001b[32m    678\u001b[39m \u001b[43m    \u001b[49m\u001b[43mtrials\u001b[49m\u001b[43m=\u001b[49m\u001b[38;5;28;43mself\u001b[39;49m\u001b[43m,\u001b[49m\n\u001b[32m    679\u001b[39m \u001b[43m    \u001b[49m\u001b[43mrstate\u001b[49m\u001b[43m=\u001b[49m\u001b[43mrstate\u001b[49m\u001b[43m,\u001b[49m\n\u001b[32m    680\u001b[39m \u001b[43m    \u001b[49m\u001b[43mverbose\u001b[49m\u001b[43m=\u001b[49m\u001b[43mverbose\u001b[49m\u001b[43m,\u001b[49m\n\u001b[32m    681\u001b[39m \u001b[43m    \u001b[49m\u001b[43mmax_queue_len\u001b[49m\u001b[43m=\u001b[49m\u001b[43mmax_queue_len\u001b[49m\u001b[43m,\u001b[49m\n\u001b[32m    682\u001b[39m \u001b[43m    \u001b[49m\u001b[43mallow_trials_fmin\u001b[49m\u001b[43m=\u001b[49m\u001b[38;5;28;43;01mFalse\u001b[39;49;00m\u001b[43m,\u001b[49m\u001b[43m  \u001b[49m\u001b[38;5;66;43;03m# -- prevent recursion\u001b[39;49;00m\n\u001b[32m    683\u001b[39m \u001b[43m    \u001b[49m\u001b[43mpass_expr_memo_ctrl\u001b[49m\u001b[43m=\u001b[49m\u001b[43mpass_expr_memo_ctrl\u001b[49m\u001b[43m,\u001b[49m\n\u001b[32m    684\u001b[39m \u001b[43m    \u001b[49m\u001b[43mcatch_eval_exceptions\u001b[49m\u001b[43m=\u001b[49m\u001b[43mcatch_eval_exceptions\u001b[49m\u001b[43m,\u001b[49m\n\u001b[32m    685\u001b[39m \u001b[43m    \u001b[49m\u001b[43mreturn_argmin\u001b[49m\u001b[43m=\u001b[49m\u001b[43mreturn_argmin\u001b[49m\u001b[43m,\u001b[49m\n\u001b[32m    686\u001b[39m \u001b[43m    \u001b[49m\u001b[43mshow_progressbar\u001b[49m\u001b[43m=\u001b[49m\u001b[43mshow_progressbar\u001b[49m\u001b[43m,\u001b[49m\n\u001b[32m    687\u001b[39m \u001b[43m    \u001b[49m\u001b[43mearly_stop_fn\u001b[49m\u001b[43m=\u001b[49m\u001b[43mearly_stop_fn\u001b[49m\u001b[43m,\u001b[49m\n\u001b[32m    688\u001b[39m \u001b[43m    \u001b[49m\u001b[43mtrials_save_file\u001b[49m\u001b[43m=\u001b[49m\u001b[43mtrials_save_file\u001b[49m\u001b[43m,\u001b[49m\n\u001b[32m    689\u001b[39m \u001b[43m\u001b[49m\u001b[43m)\u001b[49m\n",
      "\u001b[36mFile \u001b[39m\u001b[32m/opt/conda/envs/exp-tracking-env/lib/python3.12/site-packages/hyperopt/fmin.py:586\u001b[39m, in \u001b[36mfmin\u001b[39m\u001b[34m(fn, space, algo, max_evals, timeout, loss_threshold, trials, rstate, allow_trials_fmin, pass_expr_memo_ctrl, catch_eval_exceptions, verbose, return_argmin, points_to_evaluate, max_queue_len, show_progressbar, early_stop_fn, trials_save_file)\u001b[39m\n\u001b[32m    583\u001b[39m rval.catch_eval_exceptions = catch_eval_exceptions\n\u001b[32m    585\u001b[39m \u001b[38;5;66;03m# next line is where the fmin is actually executed\u001b[39;00m\n\u001b[32m--> \u001b[39m\u001b[32m586\u001b[39m \u001b[43mrval\u001b[49m\u001b[43m.\u001b[49m\u001b[43mexhaust\u001b[49m\u001b[43m(\u001b[49m\u001b[43m)\u001b[49m\n\u001b[32m    588\u001b[39m \u001b[38;5;28;01mif\u001b[39;00m return_argmin:\n\u001b[32m    589\u001b[39m     \u001b[38;5;28;01mif\u001b[39;00m \u001b[38;5;28mlen\u001b[39m(trials.trials) == \u001b[32m0\u001b[39m:\n",
      "\u001b[36mFile \u001b[39m\u001b[32m/opt/conda/envs/exp-tracking-env/lib/python3.12/site-packages/hyperopt/fmin.py:364\u001b[39m, in \u001b[36mFMinIter.exhaust\u001b[39m\u001b[34m(self)\u001b[39m\n\u001b[32m    362\u001b[39m \u001b[38;5;28;01mdef\u001b[39;00m\u001b[38;5;250m \u001b[39m\u001b[34mexhaust\u001b[39m(\u001b[38;5;28mself\u001b[39m):\n\u001b[32m    363\u001b[39m     n_done = \u001b[38;5;28mlen\u001b[39m(\u001b[38;5;28mself\u001b[39m.trials)\n\u001b[32m--> \u001b[39m\u001b[32m364\u001b[39m     \u001b[38;5;28;43mself\u001b[39;49m\u001b[43m.\u001b[49m\u001b[43mrun\u001b[49m\u001b[43m(\u001b[49m\u001b[38;5;28;43mself\u001b[39;49m\u001b[43m.\u001b[49m\u001b[43mmax_evals\u001b[49m\u001b[43m \u001b[49m\u001b[43m-\u001b[49m\u001b[43m \u001b[49m\u001b[43mn_done\u001b[49m\u001b[43m,\u001b[49m\u001b[43m \u001b[49m\u001b[43mblock_until_done\u001b[49m\u001b[43m=\u001b[49m\u001b[38;5;28;43mself\u001b[39;49m\u001b[43m.\u001b[49m\u001b[43masynchronous\u001b[49m\u001b[43m)\u001b[49m\n\u001b[32m    365\u001b[39m     \u001b[38;5;28mself\u001b[39m.trials.refresh()\n\u001b[32m    366\u001b[39m     \u001b[38;5;28;01mreturn\u001b[39;00m \u001b[38;5;28mself\u001b[39m\n",
      "\u001b[36mFile \u001b[39m\u001b[32m/opt/conda/envs/exp-tracking-env/lib/python3.12/site-packages/hyperopt/fmin.py:300\u001b[39m, in \u001b[36mFMinIter.run\u001b[39m\u001b[34m(self, N, block_until_done)\u001b[39m\n\u001b[32m    297\u001b[39m     time.sleep(\u001b[38;5;28mself\u001b[39m.poll_interval_secs)\n\u001b[32m    298\u001b[39m \u001b[38;5;28;01melse\u001b[39;00m:\n\u001b[32m    299\u001b[39m     \u001b[38;5;66;03m# -- loop over trials and do the jobs directly\u001b[39;00m\n\u001b[32m--> \u001b[39m\u001b[32m300\u001b[39m     \u001b[38;5;28;43mself\u001b[39;49m\u001b[43m.\u001b[49m\u001b[43mserial_evaluate\u001b[49m\u001b[43m(\u001b[49m\u001b[43m)\u001b[49m\n\u001b[32m    302\u001b[39m \u001b[38;5;28mself\u001b[39m.trials.refresh()\n\u001b[32m    303\u001b[39m \u001b[38;5;28;01mif\u001b[39;00m \u001b[38;5;28mself\u001b[39m.trials_save_file != \u001b[33m\"\u001b[39m\u001b[33m\"\u001b[39m:\n",
      "\u001b[36mFile \u001b[39m\u001b[32m/opt/conda/envs/exp-tracking-env/lib/python3.12/site-packages/hyperopt/fmin.py:178\u001b[39m, in \u001b[36mFMinIter.serial_evaluate\u001b[39m\u001b[34m(self, N)\u001b[39m\n\u001b[32m    176\u001b[39m ctrl = base.Ctrl(\u001b[38;5;28mself\u001b[39m.trials, current_trial=trial)\n\u001b[32m    177\u001b[39m \u001b[38;5;28;01mtry\u001b[39;00m:\n\u001b[32m--> \u001b[39m\u001b[32m178\u001b[39m     result = \u001b[38;5;28;43mself\u001b[39;49m\u001b[43m.\u001b[49m\u001b[43mdomain\u001b[49m\u001b[43m.\u001b[49m\u001b[43mevaluate\u001b[49m\u001b[43m(\u001b[49m\u001b[43mspec\u001b[49m\u001b[43m,\u001b[49m\u001b[43m \u001b[49m\u001b[43mctrl\u001b[49m\u001b[43m)\u001b[49m\n\u001b[32m    179\u001b[39m \u001b[38;5;28;01mexcept\u001b[39;00m \u001b[38;5;167;01mException\u001b[39;00m \u001b[38;5;28;01mas\u001b[39;00m e:\n\u001b[32m    180\u001b[39m     logger.error(\u001b[33m\"\u001b[39m\u001b[33mjob exception: \u001b[39m\u001b[38;5;132;01m%s\u001b[39;00m\u001b[33m\"\u001b[39m % \u001b[38;5;28mstr\u001b[39m(e))\n",
      "\u001b[36mFile \u001b[39m\u001b[32m/opt/conda/envs/exp-tracking-env/lib/python3.12/site-packages/hyperopt/base.py:892\u001b[39m, in \u001b[36mDomain.evaluate\u001b[39m\u001b[34m(self, config, ctrl, attach_attachments)\u001b[39m\n\u001b[32m    883\u001b[39m \u001b[38;5;28;01melse\u001b[39;00m:\n\u001b[32m    884\u001b[39m     \u001b[38;5;66;03m# -- the \"work\" of evaluating `config` can be written\u001b[39;00m\n\u001b[32m    885\u001b[39m     \u001b[38;5;66;03m#    either into the pyll part (self.expr)\u001b[39;00m\n\u001b[32m    886\u001b[39m     \u001b[38;5;66;03m#    or the normal Python part (self.fn)\u001b[39;00m\n\u001b[32m    887\u001b[39m     pyll_rval = pyll.rec_eval(\n\u001b[32m    888\u001b[39m         \u001b[38;5;28mself\u001b[39m.expr,\n\u001b[32m    889\u001b[39m         memo=memo,\n\u001b[32m    890\u001b[39m         print_node_on_error=\u001b[38;5;28mself\u001b[39m.rec_eval_print_node_on_error,\n\u001b[32m    891\u001b[39m     )\n\u001b[32m--> \u001b[39m\u001b[32m892\u001b[39m     rval = \u001b[38;5;28;43mself\u001b[39;49m\u001b[43m.\u001b[49m\u001b[43mfn\u001b[49m\u001b[43m(\u001b[49m\u001b[43mpyll_rval\u001b[49m\u001b[43m)\u001b[49m\n\u001b[32m    894\u001b[39m \u001b[38;5;28;01mif\u001b[39;00m \u001b[38;5;28misinstance\u001b[39m(rval, (\u001b[38;5;28mfloat\u001b[39m, \u001b[38;5;28mint\u001b[39m, np.number)):\n\u001b[32m    895\u001b[39m     dict_rval = {\u001b[33m\"\u001b[39m\u001b[33mloss\u001b[39m\u001b[33m\"\u001b[39m: \u001b[38;5;28mfloat\u001b[39m(rval), \u001b[33m\"\u001b[39m\u001b[33mstatus\u001b[39m\u001b[33m\"\u001b[39m: STATUS_OK}\n",
      "\u001b[36mCell\u001b[39m\u001b[36m \u001b[39m\u001b[32mIn[14]\u001b[39m\u001b[32m, line 13\u001b[39m, in \u001b[36mobjective\u001b[39m\u001b[34m(params)\u001b[39m\n\u001b[32m      5\u001b[39m     booster = xgb.train(\n\u001b[32m      6\u001b[39m         params=params,\n\u001b[32m      7\u001b[39m         dtrain=train,\n\u001b[32m   (...)\u001b[39m\u001b[32m     10\u001b[39m         early_stopping_rounds=\u001b[32m50\u001b[39m\n\u001b[32m     11\u001b[39m     )\n\u001b[32m     12\u001b[39m     y_pred = booster.predict(valid)\n\u001b[32m---> \u001b[39m\u001b[32m13\u001b[39m     rmse = \u001b[43mmean_squared_error\u001b[49m(y_val, y_pred, squared=\u001b[38;5;28;01mFalse\u001b[39;00m)\n\u001b[32m     14\u001b[39m     mlflow.log_metric(\u001b[33m\"\u001b[39m\u001b[33mrmse\u001b[39m\u001b[33m\"\u001b[39m, rmse)\n\u001b[32m     16\u001b[39m \u001b[38;5;28;01mreturn\u001b[39;00m {\u001b[33m'\u001b[39m\u001b[33mloss\u001b[39m\u001b[33m'\u001b[39m: rmse, \u001b[33m'\u001b[39m\u001b[33mstatus\u001b[39m\u001b[33m'\u001b[39m: STATUS_OK}\n",
      "\u001b[31mNameError\u001b[39m: name 'mean_squared_error' is not defined"
     ]
    }
   ],
   "source": [
    "search_space = {\n",
    "    'max_depth': scope.int(hp.quniform('max_depth', 4, 100, 1)),\n",
    "    'learning_rate': hp.loguniform('learning_rate', -3, 0),\n",
    "    'reg_alpha': hp.loguniform('reg_alpha', -5, -1),\n",
    "    'reg_lambda': hp.loguniform('reg_lambda', -6, -1),\n",
    "    'min_child_weight': hp.loguniform('min_child_weight', -1, 3),\n",
    "    'objective': 'reg:linear',\n",
    "    'seed': 42\n",
    "}\n",
    "\n",
    "best_result = fmin(\n",
    "    fn=objective,\n",
    "    space=search_space,\n",
    "    algo=tpe.suggest,\n",
    "    max_evals=50,\n",
    "    trials=Trials()\n",
    ")"
   ]
  },
  {
   "cell_type": "code",
   "execution_count": 17,
   "id": "733e6cd1",
   "metadata": {},
   "outputs": [],
   "source": [
    "mlflow.xgboost.autolog(disable=True)\n"
   ]
  },
  {
   "cell_type": "code",
   "execution_count": 21,
   "id": "1232c0f0",
   "metadata": {},
   "outputs": [],
   "source": [
    "import pickle"
   ]
  },
  {
   "cell_type": "code",
   "execution_count": 22,
   "id": "79b98cb7",
   "metadata": {},
   "outputs": [
    {
     "name": "stderr",
     "output_type": "stream",
     "text": [
      "/opt/conda/envs/exp-tracking-env/lib/python3.12/site-packages/xgboost/callback.py:386: UserWarning: [15:55:24] WARNING: /workspace/src/objective/regression_obj.cu:250: reg:linear is now deprecated in favor of reg:squarederror.\n",
      "  self.starting_round = model.num_boosted_rounds()\n"
     ]
    },
    {
     "name": "stdout",
     "output_type": "stream",
     "text": [
      "[0]\tvalidation-rmse:9.34798\n",
      "[1]\tvalidation-rmse:8.71461\n",
      "[2]\tvalidation-rmse:8.15750\n",
      "[3]\tvalidation-rmse:7.66878\n",
      "[4]\tvalidation-rmse:7.24278\n",
      "[5]\tvalidation-rmse:6.87279\n",
      "[6]\tvalidation-rmse:6.55280\n",
      "[7]\tvalidation-rmse:6.27351\n",
      "[8]\tvalidation-rmse:6.03615\n",
      "[9]\tvalidation-rmse:5.83215\n",
      "[10]\tvalidation-rmse:5.65607\n",
      "[11]\tvalidation-rmse:5.50742\n",
      "[12]\tvalidation-rmse:5.38152\n",
      "[13]\tvalidation-rmse:5.27467\n",
      "[14]\tvalidation-rmse:5.18091\n",
      "[15]\tvalidation-rmse:5.10423\n",
      "[16]\tvalidation-rmse:5.03863\n",
      "[17]\tvalidation-rmse:4.98333\n",
      "[18]\tvalidation-rmse:4.93645\n",
      "[19]\tvalidation-rmse:4.89665\n",
      "[20]\tvalidation-rmse:4.86284\n",
      "[21]\tvalidation-rmse:4.83233\n",
      "[22]\tvalidation-rmse:4.80801\n",
      "[23]\tvalidation-rmse:4.78633\n",
      "[24]\tvalidation-rmse:4.76663\n",
      "[25]\tvalidation-rmse:4.75023\n",
      "[26]\tvalidation-rmse:4.73620\n",
      "[27]\tvalidation-rmse:4.72441\n",
      "[28]\tvalidation-rmse:4.71360\n",
      "[29]\tvalidation-rmse:4.70176\n",
      "[30]\tvalidation-rmse:4.69350\n",
      "[31]\tvalidation-rmse:4.68619\n",
      "[32]\tvalidation-rmse:4.67969\n",
      "[33]\tvalidation-rmse:4.67432\n",
      "[34]\tvalidation-rmse:4.66903\n",
      "[35]\tvalidation-rmse:4.66443\n",
      "[36]\tvalidation-rmse:4.66048\n",
      "[37]\tvalidation-rmse:4.65555\n",
      "[38]\tvalidation-rmse:4.65228\n",
      "[39]\tvalidation-rmse:4.64897\n",
      "[40]\tvalidation-rmse:4.64639\n",
      "[41]\tvalidation-rmse:4.64353\n",
      "[42]\tvalidation-rmse:4.64060\n",
      "[43]\tvalidation-rmse:4.63801\n",
      "[44]\tvalidation-rmse:4.63554\n",
      "[45]\tvalidation-rmse:4.63378\n",
      "[46]\tvalidation-rmse:4.63177\n",
      "[47]\tvalidation-rmse:4.62980\n",
      "[48]\tvalidation-rmse:4.62778\n",
      "[49]\tvalidation-rmse:4.62607\n",
      "[50]\tvalidation-rmse:4.62438\n",
      "[51]\tvalidation-rmse:4.62329\n",
      "[52]\tvalidation-rmse:4.62169\n",
      "[53]\tvalidation-rmse:4.62092\n",
      "[54]\tvalidation-rmse:4.61918\n",
      "[55]\tvalidation-rmse:4.61744\n",
      "[56]\tvalidation-rmse:4.61680\n",
      "[57]\tvalidation-rmse:4.61589\n",
      "[58]\tvalidation-rmse:4.61514\n",
      "[59]\tvalidation-rmse:4.61437\n",
      "[60]\tvalidation-rmse:4.61385\n",
      "[61]\tvalidation-rmse:4.61320\n",
      "[62]\tvalidation-rmse:4.61273\n",
      "[63]\tvalidation-rmse:4.61077\n",
      "[64]\tvalidation-rmse:4.61023\n",
      "[65]\tvalidation-rmse:4.60936\n",
      "[66]\tvalidation-rmse:4.60868\n",
      "[67]\tvalidation-rmse:4.60843\n",
      "[68]\tvalidation-rmse:4.60764\n",
      "[69]\tvalidation-rmse:4.60722\n",
      "[70]\tvalidation-rmse:4.60620\n",
      "[71]\tvalidation-rmse:4.60534\n",
      "[72]\tvalidation-rmse:4.60488\n",
      "[73]\tvalidation-rmse:4.60406\n",
      "[74]\tvalidation-rmse:4.60273\n",
      "[75]\tvalidation-rmse:4.60226\n",
      "[76]\tvalidation-rmse:4.60183\n",
      "[77]\tvalidation-rmse:4.60103\n",
      "[78]\tvalidation-rmse:4.60068\n",
      "[79]\tvalidation-rmse:4.59968\n",
      "[80]\tvalidation-rmse:4.59804\n",
      "[81]\tvalidation-rmse:4.59557\n",
      "[82]\tvalidation-rmse:4.59538\n",
      "[83]\tvalidation-rmse:4.59516\n",
      "[84]\tvalidation-rmse:4.59505\n",
      "[85]\tvalidation-rmse:4.59396\n",
      "[86]\tvalidation-rmse:4.59278\n",
      "[87]\tvalidation-rmse:4.59206\n",
      "[88]\tvalidation-rmse:4.59182\n",
      "[89]\tvalidation-rmse:4.59104\n",
      "[90]\tvalidation-rmse:4.59075\n",
      "[91]\tvalidation-rmse:4.59064\n",
      "[92]\tvalidation-rmse:4.58986\n",
      "[93]\tvalidation-rmse:4.58767\n",
      "[94]\tvalidation-rmse:4.58755\n",
      "[95]\tvalidation-rmse:4.58736\n",
      "[96]\tvalidation-rmse:4.58719\n",
      "[97]\tvalidation-rmse:4.58699\n",
      "[98]\tvalidation-rmse:4.58627\n",
      "[99]\tvalidation-rmse:4.58500\n",
      "[100]\tvalidation-rmse:4.58487\n",
      "[101]\tvalidation-rmse:4.58468\n",
      "[102]\tvalidation-rmse:4.58390\n",
      "[103]\tvalidation-rmse:4.58378\n",
      "[104]\tvalidation-rmse:4.58137\n",
      "[105]\tvalidation-rmse:4.58126\n",
      "[106]\tvalidation-rmse:4.58101\n",
      "[107]\tvalidation-rmse:4.58082\n",
      "[108]\tvalidation-rmse:4.57989\n",
      "[109]\tvalidation-rmse:4.57877\n",
      "[110]\tvalidation-rmse:4.57865\n",
      "[111]\tvalidation-rmse:4.57850\n",
      "[112]\tvalidation-rmse:4.57841\n",
      "[113]\tvalidation-rmse:4.57769\n",
      "[114]\tvalidation-rmse:4.57737\n",
      "[115]\tvalidation-rmse:4.57720\n",
      "[116]\tvalidation-rmse:4.57633\n",
      "[117]\tvalidation-rmse:4.57514\n",
      "[118]\tvalidation-rmse:4.57510\n",
      "[119]\tvalidation-rmse:4.57454\n",
      "[120]\tvalidation-rmse:4.57417\n",
      "[121]\tvalidation-rmse:4.57396\n",
      "[122]\tvalidation-rmse:4.57277\n",
      "[123]\tvalidation-rmse:4.57197\n",
      "[124]\tvalidation-rmse:4.57174\n",
      "[125]\tvalidation-rmse:4.57053\n",
      "[126]\tvalidation-rmse:4.57034\n",
      "[127]\tvalidation-rmse:4.57029\n",
      "[128]\tvalidation-rmse:4.57021\n",
      "[129]\tvalidation-rmse:4.57019\n",
      "[130]\tvalidation-rmse:4.57010\n",
      "[131]\tvalidation-rmse:4.56964\n",
      "[132]\tvalidation-rmse:4.56934\n",
      "[133]\tvalidation-rmse:4.56879\n",
      "[134]\tvalidation-rmse:4.56812\n",
      "[135]\tvalidation-rmse:4.56800\n",
      "[136]\tvalidation-rmse:4.56788\n",
      "[137]\tvalidation-rmse:4.56718\n",
      "[138]\tvalidation-rmse:4.56718\n",
      "[139]\tvalidation-rmse:4.56704\n",
      "[140]\tvalidation-rmse:4.56689\n",
      "[141]\tvalidation-rmse:4.56692\n",
      "[142]\tvalidation-rmse:4.56667\n",
      "[143]\tvalidation-rmse:4.56657\n",
      "[144]\tvalidation-rmse:4.56516\n",
      "[145]\tvalidation-rmse:4.56491\n",
      "[146]\tvalidation-rmse:4.56453\n",
      "[147]\tvalidation-rmse:4.56374\n",
      "[148]\tvalidation-rmse:4.56239\n",
      "[149]\tvalidation-rmse:4.56245\n",
      "[150]\tvalidation-rmse:4.56247\n",
      "[151]\tvalidation-rmse:4.56198\n",
      "[152]\tvalidation-rmse:4.56166\n",
      "[153]\tvalidation-rmse:4.56131\n",
      "[154]\tvalidation-rmse:4.56123\n",
      "[155]\tvalidation-rmse:4.56125\n",
      "[156]\tvalidation-rmse:4.56088\n",
      "[157]\tvalidation-rmse:4.56065\n",
      "[158]\tvalidation-rmse:4.56024\n",
      "[159]\tvalidation-rmse:4.55960\n",
      "[160]\tvalidation-rmse:4.55948\n",
      "[161]\tvalidation-rmse:4.55924\n",
      "[162]\tvalidation-rmse:4.55927\n",
      "[163]\tvalidation-rmse:4.55924\n",
      "[164]\tvalidation-rmse:4.55918\n",
      "[165]\tvalidation-rmse:4.55914\n",
      "[166]\tvalidation-rmse:4.55903\n",
      "[167]\tvalidation-rmse:4.55898\n",
      "[168]\tvalidation-rmse:4.55896\n",
      "[169]\tvalidation-rmse:4.55875\n",
      "[170]\tvalidation-rmse:4.55862\n",
      "[171]\tvalidation-rmse:4.55866\n",
      "[172]\tvalidation-rmse:4.55847\n",
      "[173]\tvalidation-rmse:4.55827\n",
      "[174]\tvalidation-rmse:4.55782\n",
      "[175]\tvalidation-rmse:4.55779\n",
      "[176]\tvalidation-rmse:4.55784\n",
      "[177]\tvalidation-rmse:4.55787\n",
      "[178]\tvalidation-rmse:4.55788\n",
      "[179]\tvalidation-rmse:4.55773\n",
      "[180]\tvalidation-rmse:4.55740\n",
      "[181]\tvalidation-rmse:4.55715\n",
      "[182]\tvalidation-rmse:4.55718\n",
      "[183]\tvalidation-rmse:4.55723\n",
      "[184]\tvalidation-rmse:4.55718\n",
      "[185]\tvalidation-rmse:4.55663\n",
      "[186]\tvalidation-rmse:4.55524\n",
      "[187]\tvalidation-rmse:4.55521\n",
      "[188]\tvalidation-rmse:4.55527\n",
      "[189]\tvalidation-rmse:4.55532\n",
      "[190]\tvalidation-rmse:4.55534\n",
      "[191]\tvalidation-rmse:4.55533\n",
      "[192]\tvalidation-rmse:4.55501\n",
      "[193]\tvalidation-rmse:4.55503\n",
      "[194]\tvalidation-rmse:4.55510\n",
      "[195]\tvalidation-rmse:4.55516\n",
      "[196]\tvalidation-rmse:4.55501\n",
      "[197]\tvalidation-rmse:4.55499\n",
      "[198]\tvalidation-rmse:4.55496\n",
      "[199]\tvalidation-rmse:4.55467\n",
      "[200]\tvalidation-rmse:4.55473\n",
      "[201]\tvalidation-rmse:4.55449\n",
      "[202]\tvalidation-rmse:4.55452\n",
      "[203]\tvalidation-rmse:4.55450\n",
      "[204]\tvalidation-rmse:4.55432\n",
      "[205]\tvalidation-rmse:4.55434\n",
      "[206]\tvalidation-rmse:4.55357\n",
      "[207]\tvalidation-rmse:4.55315\n",
      "[208]\tvalidation-rmse:4.55322\n",
      "[209]\tvalidation-rmse:4.55321\n",
      "[210]\tvalidation-rmse:4.55291\n",
      "[211]\tvalidation-rmse:4.55275\n",
      "[212]\tvalidation-rmse:4.55278\n",
      "[213]\tvalidation-rmse:4.55287\n",
      "[214]\tvalidation-rmse:4.55288\n",
      "[215]\tvalidation-rmse:4.55291\n",
      "[216]\tvalidation-rmse:4.55281\n",
      "[217]\tvalidation-rmse:4.55268\n",
      "[218]\tvalidation-rmse:4.55276\n",
      "[219]\tvalidation-rmse:4.55280\n",
      "[220]\tvalidation-rmse:4.55276\n",
      "[221]\tvalidation-rmse:4.55215\n",
      "[222]\tvalidation-rmse:4.55199\n",
      "[223]\tvalidation-rmse:4.55177\n",
      "[224]\tvalidation-rmse:4.55185\n",
      "[225]\tvalidation-rmse:4.55176\n",
      "[226]\tvalidation-rmse:4.55184\n",
      "[227]\tvalidation-rmse:4.55184\n",
      "[228]\tvalidation-rmse:4.55189\n",
      "[229]\tvalidation-rmse:4.55147\n",
      "[230]\tvalidation-rmse:4.55151\n",
      "[231]\tvalidation-rmse:4.55141\n",
      "[232]\tvalidation-rmse:4.55148\n",
      "[233]\tvalidation-rmse:4.55158\n",
      "[234]\tvalidation-rmse:4.55154\n",
      "[235]\tvalidation-rmse:4.55139\n",
      "[236]\tvalidation-rmse:4.55143\n",
      "[237]\tvalidation-rmse:4.55137\n",
      "[238]\tvalidation-rmse:4.55139\n",
      "[239]\tvalidation-rmse:4.55142\n",
      "[240]\tvalidation-rmse:4.55147\n",
      "[241]\tvalidation-rmse:4.55155\n",
      "[242]\tvalidation-rmse:4.55155\n",
      "[243]\tvalidation-rmse:4.55152\n",
      "[244]\tvalidation-rmse:4.55145\n",
      "[245]\tvalidation-rmse:4.55149\n",
      "[246]\tvalidation-rmse:4.55122\n",
      "[247]\tvalidation-rmse:4.55122\n",
      "[248]\tvalidation-rmse:4.55127\n",
      "[249]\tvalidation-rmse:4.55110\n",
      "[250]\tvalidation-rmse:4.55112\n",
      "[251]\tvalidation-rmse:4.55116\n",
      "[252]\tvalidation-rmse:4.55129\n",
      "[253]\tvalidation-rmse:4.55126\n",
      "[254]\tvalidation-rmse:4.55121\n",
      "[255]\tvalidation-rmse:4.55126\n",
      "[256]\tvalidation-rmse:4.55128\n",
      "[257]\tvalidation-rmse:4.55134\n",
      "[258]\tvalidation-rmse:4.55127\n",
      "[259]\tvalidation-rmse:4.55134\n",
      "[260]\tvalidation-rmse:4.55128\n",
      "[261]\tvalidation-rmse:4.55133\n",
      "[262]\tvalidation-rmse:4.55129\n",
      "[263]\tvalidation-rmse:4.55125\n",
      "[264]\tvalidation-rmse:4.55133\n",
      "[265]\tvalidation-rmse:4.55119\n",
      "[266]\tvalidation-rmse:4.55131\n",
      "[267]\tvalidation-rmse:4.55127\n",
      "[268]\tvalidation-rmse:4.55130\n",
      "[269]\tvalidation-rmse:4.55134\n",
      "[270]\tvalidation-rmse:4.55138\n",
      "[271]\tvalidation-rmse:4.55142\n",
      "[272]\tvalidation-rmse:4.55137\n",
      "[273]\tvalidation-rmse:4.55142\n",
      "[274]\tvalidation-rmse:4.55145\n",
      "[275]\tvalidation-rmse:4.55152\n",
      "[276]\tvalidation-rmse:4.55151\n",
      "[277]\tvalidation-rmse:4.55129\n",
      "[278]\tvalidation-rmse:4.55119\n",
      "[279]\tvalidation-rmse:4.55110\n",
      "[280]\tvalidation-rmse:4.55112\n",
      "[281]\tvalidation-rmse:4.55122\n",
      "[282]\tvalidation-rmse:4.55108\n",
      "[283]\tvalidation-rmse:4.55092\n",
      "[284]\tvalidation-rmse:4.55096\n",
      "[285]\tvalidation-rmse:4.55085\n",
      "[286]\tvalidation-rmse:4.55088\n",
      "[287]\tvalidation-rmse:4.55095\n",
      "[288]\tvalidation-rmse:4.55096\n",
      "[289]\tvalidation-rmse:4.55104\n",
      "[290]\tvalidation-rmse:4.55103\n",
      "[291]\tvalidation-rmse:4.55103\n",
      "[292]\tvalidation-rmse:4.55104\n",
      "[293]\tvalidation-rmse:4.55096\n",
      "[294]\tvalidation-rmse:4.55104\n",
      "[295]\tvalidation-rmse:4.55099\n",
      "[296]\tvalidation-rmse:4.55103\n",
      "[297]\tvalidation-rmse:4.55109\n",
      "[298]\tvalidation-rmse:4.55114\n",
      "[299]\tvalidation-rmse:4.55123\n",
      "[300]\tvalidation-rmse:4.55123\n",
      "[301]\tvalidation-rmse:4.55130\n",
      "[302]\tvalidation-rmse:4.55127\n",
      "[303]\tvalidation-rmse:4.55130\n",
      "[304]\tvalidation-rmse:4.55120\n",
      "[305]\tvalidation-rmse:4.55121\n",
      "[306]\tvalidation-rmse:4.55126\n",
      "[307]\tvalidation-rmse:4.55124\n",
      "[308]\tvalidation-rmse:4.55115\n",
      "[309]\tvalidation-rmse:4.55121\n",
      "[310]\tvalidation-rmse:4.55131\n",
      "[311]\tvalidation-rmse:4.55129\n",
      "[312]\tvalidation-rmse:4.55129\n",
      "[313]\tvalidation-rmse:4.55135\n",
      "[314]\tvalidation-rmse:4.55138\n",
      "[315]\tvalidation-rmse:4.55143\n",
      "[316]\tvalidation-rmse:4.55146\n",
      "[317]\tvalidation-rmse:4.55151\n",
      "[318]\tvalidation-rmse:4.55148\n",
      "[319]\tvalidation-rmse:4.55151\n",
      "[320]\tvalidation-rmse:4.55156\n",
      "[321]\tvalidation-rmse:4.55144\n",
      "[322]\tvalidation-rmse:4.55152\n",
      "[323]\tvalidation-rmse:4.55148\n",
      "[324]\tvalidation-rmse:4.55151\n",
      "[325]\tvalidation-rmse:4.55151\n",
      "[326]\tvalidation-rmse:4.55150\n",
      "[327]\tvalidation-rmse:4.55143\n",
      "[328]\tvalidation-rmse:4.55150\n",
      "[329]\tvalidation-rmse:4.55157\n",
      "[330]\tvalidation-rmse:4.55165\n",
      "[331]\tvalidation-rmse:4.55172\n",
      "[332]\tvalidation-rmse:4.55181\n",
      "[333]\tvalidation-rmse:4.55181\n",
      "[334]\tvalidation-rmse:4.55194\n"
     ]
    },
    {
     "name": "stderr",
     "output_type": "stream",
     "text": [
      "/opt/conda/envs/exp-tracking-env/lib/python3.12/site-packages/mlflow/xgboost/__init__.py:168: UserWarning: [16:01:15] WARNING: /workspace/src/c_api/c_api.cc:1427: Saving model in the UBJSON format as default.  You can use file extension: `json`, `ubj` or `deprecated` to choose between formats.\n",
      "  xgb_model.save_model(model_data_path)\n",
      "\u001b[31m2025/05/10 16:01:20 WARNING mlflow.models.model: Model logged without a signature and input example. Please set `input_example` parameter when logging the model to auto infer the model signature.\u001b[0m\n"
     ]
    }
   ],
   "source": [
    "with mlflow.start_run():\n",
    "    \n",
    "    train = xgb.DMatrix(X_train, label=y_train)\n",
    "    valid = xgb.DMatrix(X_val, label=y_val)\n",
    "\n",
    "    best_params = {\n",
    "        'learning_rate': 0.09585355369315604,\n",
    "        'max_depth': 30,\n",
    "        'min_child_weight': 1.060597050922164,\n",
    "        'objective': 'reg:linear',\n",
    "        'reg_alpha': 0.018060244040060163,\n",
    "        'reg_lambda': 0.011658731377413597,\n",
    "        'seed': 42\n",
    "    }\n",
    "\n",
    "    mlflow.log_params(best_params)\n",
    "\n",
    "    booster = xgb.train(\n",
    "        params=best_params,\n",
    "        dtrain=train,\n",
    "        num_boost_round=1000,\n",
    "        evals=[(valid, 'validation')],\n",
    "        early_stopping_rounds=50\n",
    "    )\n",
    "\n",
    "    y_pred = booster.predict(valid)\n",
    "    rmse = mean_squared_error(y_val, y_pred)\n",
    "    mlflow.log_metric(\"rmse\", rmse)\n",
    "\n",
    "    with open(\"models/preprocessor.b\", \"wb\") as f_out:\n",
    "        pickle.dump(dv, f_out)\n",
    "    mlflow.log_artifact(\"models/preprocessor.b\", artifact_path=\"preprocessor\")\n",
    "\n",
    "    mlflow.xgboost.log_model(booster, artifact_path=\"models_mlflow\")"
   ]
  },
  {
   "cell_type": "code",
   "execution_count": 23,
   "id": "b01a0422",
   "metadata": {},
   "outputs": [
    {
     "data": {
      "text/html": [
       "<style>#sk-container-id-1 {\n",
       "  /* Definition of color scheme common for light and dark mode */\n",
       "  --sklearn-color-text: #000;\n",
       "  --sklearn-color-text-muted: #666;\n",
       "  --sklearn-color-line: gray;\n",
       "  /* Definition of color scheme for unfitted estimators */\n",
       "  --sklearn-color-unfitted-level-0: #fff5e6;\n",
       "  --sklearn-color-unfitted-level-1: #f6e4d2;\n",
       "  --sklearn-color-unfitted-level-2: #ffe0b3;\n",
       "  --sklearn-color-unfitted-level-3: chocolate;\n",
       "  /* Definition of color scheme for fitted estimators */\n",
       "  --sklearn-color-fitted-level-0: #f0f8ff;\n",
       "  --sklearn-color-fitted-level-1: #d4ebff;\n",
       "  --sklearn-color-fitted-level-2: #b3dbfd;\n",
       "  --sklearn-color-fitted-level-3: cornflowerblue;\n",
       "\n",
       "  /* Specific color for light theme */\n",
       "  --sklearn-color-text-on-default-background: var(--sg-text-color, var(--theme-code-foreground, var(--jp-content-font-color1, black)));\n",
       "  --sklearn-color-background: var(--sg-background-color, var(--theme-background, var(--jp-layout-color0, white)));\n",
       "  --sklearn-color-border-box: var(--sg-text-color, var(--theme-code-foreground, var(--jp-content-font-color1, black)));\n",
       "  --sklearn-color-icon: #696969;\n",
       "\n",
       "  @media (prefers-color-scheme: dark) {\n",
       "    /* Redefinition of color scheme for dark theme */\n",
       "    --sklearn-color-text-on-default-background: var(--sg-text-color, var(--theme-code-foreground, var(--jp-content-font-color1, white)));\n",
       "    --sklearn-color-background: var(--sg-background-color, var(--theme-background, var(--jp-layout-color0, #111)));\n",
       "    --sklearn-color-border-box: var(--sg-text-color, var(--theme-code-foreground, var(--jp-content-font-color1, white)));\n",
       "    --sklearn-color-icon: #878787;\n",
       "  }\n",
       "}\n",
       "\n",
       "#sk-container-id-1 {\n",
       "  color: var(--sklearn-color-text);\n",
       "}\n",
       "\n",
       "#sk-container-id-1 pre {\n",
       "  padding: 0;\n",
       "}\n",
       "\n",
       "#sk-container-id-1 input.sk-hidden--visually {\n",
       "  border: 0;\n",
       "  clip: rect(1px 1px 1px 1px);\n",
       "  clip: rect(1px, 1px, 1px, 1px);\n",
       "  height: 1px;\n",
       "  margin: -1px;\n",
       "  overflow: hidden;\n",
       "  padding: 0;\n",
       "  position: absolute;\n",
       "  width: 1px;\n",
       "}\n",
       "\n",
       "#sk-container-id-1 div.sk-dashed-wrapped {\n",
       "  border: 1px dashed var(--sklearn-color-line);\n",
       "  margin: 0 0.4em 0.5em 0.4em;\n",
       "  box-sizing: border-box;\n",
       "  padding-bottom: 0.4em;\n",
       "  background-color: var(--sklearn-color-background);\n",
       "}\n",
       "\n",
       "#sk-container-id-1 div.sk-container {\n",
       "  /* jupyter's `normalize.less` sets `[hidden] { display: none; }`\n",
       "     but bootstrap.min.css set `[hidden] { display: none !important; }`\n",
       "     so we also need the `!important` here to be able to override the\n",
       "     default hidden behavior on the sphinx rendered scikit-learn.org.\n",
       "     See: https://github.com/scikit-learn/scikit-learn/issues/21755 */\n",
       "  display: inline-block !important;\n",
       "  position: relative;\n",
       "}\n",
       "\n",
       "#sk-container-id-1 div.sk-text-repr-fallback {\n",
       "  display: none;\n",
       "}\n",
       "\n",
       "div.sk-parallel-item,\n",
       "div.sk-serial,\n",
       "div.sk-item {\n",
       "  /* draw centered vertical line to link estimators */\n",
       "  background-image: linear-gradient(var(--sklearn-color-text-on-default-background), var(--sklearn-color-text-on-default-background));\n",
       "  background-size: 2px 100%;\n",
       "  background-repeat: no-repeat;\n",
       "  background-position: center center;\n",
       "}\n",
       "\n",
       "/* Parallel-specific style estimator block */\n",
       "\n",
       "#sk-container-id-1 div.sk-parallel-item::after {\n",
       "  content: \"\";\n",
       "  width: 100%;\n",
       "  border-bottom: 2px solid var(--sklearn-color-text-on-default-background);\n",
       "  flex-grow: 1;\n",
       "}\n",
       "\n",
       "#sk-container-id-1 div.sk-parallel {\n",
       "  display: flex;\n",
       "  align-items: stretch;\n",
       "  justify-content: center;\n",
       "  background-color: var(--sklearn-color-background);\n",
       "  position: relative;\n",
       "}\n",
       "\n",
       "#sk-container-id-1 div.sk-parallel-item {\n",
       "  display: flex;\n",
       "  flex-direction: column;\n",
       "}\n",
       "\n",
       "#sk-container-id-1 div.sk-parallel-item:first-child::after {\n",
       "  align-self: flex-end;\n",
       "  width: 50%;\n",
       "}\n",
       "\n",
       "#sk-container-id-1 div.sk-parallel-item:last-child::after {\n",
       "  align-self: flex-start;\n",
       "  width: 50%;\n",
       "}\n",
       "\n",
       "#sk-container-id-1 div.sk-parallel-item:only-child::after {\n",
       "  width: 0;\n",
       "}\n",
       "\n",
       "/* Serial-specific style estimator block */\n",
       "\n",
       "#sk-container-id-1 div.sk-serial {\n",
       "  display: flex;\n",
       "  flex-direction: column;\n",
       "  align-items: center;\n",
       "  background-color: var(--sklearn-color-background);\n",
       "  padding-right: 1em;\n",
       "  padding-left: 1em;\n",
       "}\n",
       "\n",
       "\n",
       "/* Toggleable style: style used for estimator/Pipeline/ColumnTransformer box that is\n",
       "clickable and can be expanded/collapsed.\n",
       "- Pipeline and ColumnTransformer use this feature and define the default style\n",
       "- Estimators will overwrite some part of the style using the `sk-estimator` class\n",
       "*/\n",
       "\n",
       "/* Pipeline and ColumnTransformer style (default) */\n",
       "\n",
       "#sk-container-id-1 div.sk-toggleable {\n",
       "  /* Default theme specific background. It is overwritten whether we have a\n",
       "  specific estimator or a Pipeline/ColumnTransformer */\n",
       "  background-color: var(--sklearn-color-background);\n",
       "}\n",
       "\n",
       "/* Toggleable label */\n",
       "#sk-container-id-1 label.sk-toggleable__label {\n",
       "  cursor: pointer;\n",
       "  display: flex;\n",
       "  width: 100%;\n",
       "  margin-bottom: 0;\n",
       "  padding: 0.5em;\n",
       "  box-sizing: border-box;\n",
       "  text-align: center;\n",
       "  align-items: start;\n",
       "  justify-content: space-between;\n",
       "  gap: 0.5em;\n",
       "}\n",
       "\n",
       "#sk-container-id-1 label.sk-toggleable__label .caption {\n",
       "  font-size: 0.6rem;\n",
       "  font-weight: lighter;\n",
       "  color: var(--sklearn-color-text-muted);\n",
       "}\n",
       "\n",
       "#sk-container-id-1 label.sk-toggleable__label-arrow:before {\n",
       "  /* Arrow on the left of the label */\n",
       "  content: \"▸\";\n",
       "  float: left;\n",
       "  margin-right: 0.25em;\n",
       "  color: var(--sklearn-color-icon);\n",
       "}\n",
       "\n",
       "#sk-container-id-1 label.sk-toggleable__label-arrow:hover:before {\n",
       "  color: var(--sklearn-color-text);\n",
       "}\n",
       "\n",
       "/* Toggleable content - dropdown */\n",
       "\n",
       "#sk-container-id-1 div.sk-toggleable__content {\n",
       "  max-height: 0;\n",
       "  max-width: 0;\n",
       "  overflow: hidden;\n",
       "  text-align: left;\n",
       "  /* unfitted */\n",
       "  background-color: var(--sklearn-color-unfitted-level-0);\n",
       "}\n",
       "\n",
       "#sk-container-id-1 div.sk-toggleable__content.fitted {\n",
       "  /* fitted */\n",
       "  background-color: var(--sklearn-color-fitted-level-0);\n",
       "}\n",
       "\n",
       "#sk-container-id-1 div.sk-toggleable__content pre {\n",
       "  margin: 0.2em;\n",
       "  border-radius: 0.25em;\n",
       "  color: var(--sklearn-color-text);\n",
       "  /* unfitted */\n",
       "  background-color: var(--sklearn-color-unfitted-level-0);\n",
       "}\n",
       "\n",
       "#sk-container-id-1 div.sk-toggleable__content.fitted pre {\n",
       "  /* unfitted */\n",
       "  background-color: var(--sklearn-color-fitted-level-0);\n",
       "}\n",
       "\n",
       "#sk-container-id-1 input.sk-toggleable__control:checked~div.sk-toggleable__content {\n",
       "  /* Expand drop-down */\n",
       "  max-height: 200px;\n",
       "  max-width: 100%;\n",
       "  overflow: auto;\n",
       "}\n",
       "\n",
       "#sk-container-id-1 input.sk-toggleable__control:checked~label.sk-toggleable__label-arrow:before {\n",
       "  content: \"▾\";\n",
       "}\n",
       "\n",
       "/* Pipeline/ColumnTransformer-specific style */\n",
       "\n",
       "#sk-container-id-1 div.sk-label input.sk-toggleable__control:checked~label.sk-toggleable__label {\n",
       "  color: var(--sklearn-color-text);\n",
       "  background-color: var(--sklearn-color-unfitted-level-2);\n",
       "}\n",
       "\n",
       "#sk-container-id-1 div.sk-label.fitted input.sk-toggleable__control:checked~label.sk-toggleable__label {\n",
       "  background-color: var(--sklearn-color-fitted-level-2);\n",
       "}\n",
       "\n",
       "/* Estimator-specific style */\n",
       "\n",
       "/* Colorize estimator box */\n",
       "#sk-container-id-1 div.sk-estimator input.sk-toggleable__control:checked~label.sk-toggleable__label {\n",
       "  /* unfitted */\n",
       "  background-color: var(--sklearn-color-unfitted-level-2);\n",
       "}\n",
       "\n",
       "#sk-container-id-1 div.sk-estimator.fitted input.sk-toggleable__control:checked~label.sk-toggleable__label {\n",
       "  /* fitted */\n",
       "  background-color: var(--sklearn-color-fitted-level-2);\n",
       "}\n",
       "\n",
       "#sk-container-id-1 div.sk-label label.sk-toggleable__label,\n",
       "#sk-container-id-1 div.sk-label label {\n",
       "  /* The background is the default theme color */\n",
       "  color: var(--sklearn-color-text-on-default-background);\n",
       "}\n",
       "\n",
       "/* On hover, darken the color of the background */\n",
       "#sk-container-id-1 div.sk-label:hover label.sk-toggleable__label {\n",
       "  color: var(--sklearn-color-text);\n",
       "  background-color: var(--sklearn-color-unfitted-level-2);\n",
       "}\n",
       "\n",
       "/* Label box, darken color on hover, fitted */\n",
       "#sk-container-id-1 div.sk-label.fitted:hover label.sk-toggleable__label.fitted {\n",
       "  color: var(--sklearn-color-text);\n",
       "  background-color: var(--sklearn-color-fitted-level-2);\n",
       "}\n",
       "\n",
       "/* Estimator label */\n",
       "\n",
       "#sk-container-id-1 div.sk-label label {\n",
       "  font-family: monospace;\n",
       "  font-weight: bold;\n",
       "  display: inline-block;\n",
       "  line-height: 1.2em;\n",
       "}\n",
       "\n",
       "#sk-container-id-1 div.sk-label-container {\n",
       "  text-align: center;\n",
       "}\n",
       "\n",
       "/* Estimator-specific */\n",
       "#sk-container-id-1 div.sk-estimator {\n",
       "  font-family: monospace;\n",
       "  border: 1px dotted var(--sklearn-color-border-box);\n",
       "  border-radius: 0.25em;\n",
       "  box-sizing: border-box;\n",
       "  margin-bottom: 0.5em;\n",
       "  /* unfitted */\n",
       "  background-color: var(--sklearn-color-unfitted-level-0);\n",
       "}\n",
       "\n",
       "#sk-container-id-1 div.sk-estimator.fitted {\n",
       "  /* fitted */\n",
       "  background-color: var(--sklearn-color-fitted-level-0);\n",
       "}\n",
       "\n",
       "/* on hover */\n",
       "#sk-container-id-1 div.sk-estimator:hover {\n",
       "  /* unfitted */\n",
       "  background-color: var(--sklearn-color-unfitted-level-2);\n",
       "}\n",
       "\n",
       "#sk-container-id-1 div.sk-estimator.fitted:hover {\n",
       "  /* fitted */\n",
       "  background-color: var(--sklearn-color-fitted-level-2);\n",
       "}\n",
       "\n",
       "/* Specification for estimator info (e.g. \"i\" and \"?\") */\n",
       "\n",
       "/* Common style for \"i\" and \"?\" */\n",
       "\n",
       ".sk-estimator-doc-link,\n",
       "a:link.sk-estimator-doc-link,\n",
       "a:visited.sk-estimator-doc-link {\n",
       "  float: right;\n",
       "  font-size: smaller;\n",
       "  line-height: 1em;\n",
       "  font-family: monospace;\n",
       "  background-color: var(--sklearn-color-background);\n",
       "  border-radius: 1em;\n",
       "  height: 1em;\n",
       "  width: 1em;\n",
       "  text-decoration: none !important;\n",
       "  margin-left: 0.5em;\n",
       "  text-align: center;\n",
       "  /* unfitted */\n",
       "  border: var(--sklearn-color-unfitted-level-1) 1pt solid;\n",
       "  color: var(--sklearn-color-unfitted-level-1);\n",
       "}\n",
       "\n",
       ".sk-estimator-doc-link.fitted,\n",
       "a:link.sk-estimator-doc-link.fitted,\n",
       "a:visited.sk-estimator-doc-link.fitted {\n",
       "  /* fitted */\n",
       "  border: var(--sklearn-color-fitted-level-1) 1pt solid;\n",
       "  color: var(--sklearn-color-fitted-level-1);\n",
       "}\n",
       "\n",
       "/* On hover */\n",
       "div.sk-estimator:hover .sk-estimator-doc-link:hover,\n",
       ".sk-estimator-doc-link:hover,\n",
       "div.sk-label-container:hover .sk-estimator-doc-link:hover,\n",
       ".sk-estimator-doc-link:hover {\n",
       "  /* unfitted */\n",
       "  background-color: var(--sklearn-color-unfitted-level-3);\n",
       "  color: var(--sklearn-color-background);\n",
       "  text-decoration: none;\n",
       "}\n",
       "\n",
       "div.sk-estimator.fitted:hover .sk-estimator-doc-link.fitted:hover,\n",
       ".sk-estimator-doc-link.fitted:hover,\n",
       "div.sk-label-container:hover .sk-estimator-doc-link.fitted:hover,\n",
       ".sk-estimator-doc-link.fitted:hover {\n",
       "  /* fitted */\n",
       "  background-color: var(--sklearn-color-fitted-level-3);\n",
       "  color: var(--sklearn-color-background);\n",
       "  text-decoration: none;\n",
       "}\n",
       "\n",
       "/* Span, style for the box shown on hovering the info icon */\n",
       ".sk-estimator-doc-link span {\n",
       "  display: none;\n",
       "  z-index: 9999;\n",
       "  position: relative;\n",
       "  font-weight: normal;\n",
       "  right: .2ex;\n",
       "  padding: .5ex;\n",
       "  margin: .5ex;\n",
       "  width: min-content;\n",
       "  min-width: 20ex;\n",
       "  max-width: 50ex;\n",
       "  color: var(--sklearn-color-text);\n",
       "  box-shadow: 2pt 2pt 4pt #999;\n",
       "  /* unfitted */\n",
       "  background: var(--sklearn-color-unfitted-level-0);\n",
       "  border: .5pt solid var(--sklearn-color-unfitted-level-3);\n",
       "}\n",
       "\n",
       ".sk-estimator-doc-link.fitted span {\n",
       "  /* fitted */\n",
       "  background: var(--sklearn-color-fitted-level-0);\n",
       "  border: var(--sklearn-color-fitted-level-3);\n",
       "}\n",
       "\n",
       ".sk-estimator-doc-link:hover span {\n",
       "  display: block;\n",
       "}\n",
       "\n",
       "/* \"?\"-specific style due to the `<a>` HTML tag */\n",
       "\n",
       "#sk-container-id-1 a.estimator_doc_link {\n",
       "  float: right;\n",
       "  font-size: 1rem;\n",
       "  line-height: 1em;\n",
       "  font-family: monospace;\n",
       "  background-color: var(--sklearn-color-background);\n",
       "  border-radius: 1rem;\n",
       "  height: 1rem;\n",
       "  width: 1rem;\n",
       "  text-decoration: none;\n",
       "  /* unfitted */\n",
       "  color: var(--sklearn-color-unfitted-level-1);\n",
       "  border: var(--sklearn-color-unfitted-level-1) 1pt solid;\n",
       "}\n",
       "\n",
       "#sk-container-id-1 a.estimator_doc_link.fitted {\n",
       "  /* fitted */\n",
       "  border: var(--sklearn-color-fitted-level-1) 1pt solid;\n",
       "  color: var(--sklearn-color-fitted-level-1);\n",
       "}\n",
       "\n",
       "/* On hover */\n",
       "#sk-container-id-1 a.estimator_doc_link:hover {\n",
       "  /* unfitted */\n",
       "  background-color: var(--sklearn-color-unfitted-level-3);\n",
       "  color: var(--sklearn-color-background);\n",
       "  text-decoration: none;\n",
       "}\n",
       "\n",
       "#sk-container-id-1 a.estimator_doc_link.fitted:hover {\n",
       "  /* fitted */\n",
       "  background-color: var(--sklearn-color-fitted-level-3);\n",
       "}\n",
       "</style><div id=\"sk-container-id-1\" class=\"sk-top-container\"><div class=\"sk-text-repr-fallback\"><pre>DictVectorizer()</pre><b>In a Jupyter environment, please rerun this cell to show the HTML representation or trust the notebook. <br />On GitHub, the HTML representation is unable to render, please try loading this page with nbviewer.org.</b></div><div class=\"sk-container\" hidden><div class=\"sk-item\"><div class=\"sk-estimator fitted sk-toggleable\"><input class=\"sk-toggleable__control sk-hidden--visually\" id=\"sk-estimator-id-1\" type=\"checkbox\" checked><label for=\"sk-estimator-id-1\" class=\"sk-toggleable__label fitted sk-toggleable__label-arrow\"><div><div>DictVectorizer</div></div><div><a class=\"sk-estimator-doc-link fitted\" rel=\"noreferrer\" target=\"_blank\" href=\"https://scikit-learn.org/1.6/modules/generated/sklearn.feature_extraction.DictVectorizer.html\">?<span>Documentation for DictVectorizer</span></a><span class=\"sk-estimator-doc-link fitted\">i<span>Fitted</span></span></div></label><div class=\"sk-toggleable__content fitted\"><pre>DictVectorizer()</pre></div> </div></div></div></div>"
      ],
      "text/plain": [
       "DictVectorizer()"
      ]
     },
     "execution_count": 23,
     "metadata": {},
     "output_type": "execute_result"
    }
   ],
   "source": [
    "dv"
   ]
  },
  {
   "cell_type": "code",
   "execution_count": 1,
   "id": "77ef252d",
   "metadata": {},
   "outputs": [],
   "source": [
    "from mlflow.tracking import MlflowClient\n",
    "MLFLOW_TRACKING_URI = \"sqlite:///mlflow.db\"\n",
    "client = MlflowClient(tracking_uri=MLFLOW_TRACKING_URI)\n"
   ]
  },
  {
   "cell_type": "code",
   "execution_count": 3,
   "id": "9db99246",
   "metadata": {},
   "outputs": [
    {
     "data": {
      "text/plain": [
       "<mlflow.tracking.client.MlflowClient at 0x7bc89287db50>"
      ]
     },
     "execution_count": 3,
     "metadata": {},
     "output_type": "execute_result"
    }
   ],
   "source": [
    "client"
   ]
  },
  {
   "cell_type": "code",
   "execution_count": 4,
   "id": "6a4d122d",
   "metadata": {},
   "outputs": [
    {
     "data": {
      "text/plain": [
       "[<Experiment: artifact_location='/workspaces/mlops-zoomcamp/02-experiment-tracking/mlruns/1', creation_time=1746888106375, experiment_id='1', last_update_time=1746888106375, lifecycle_stage='active', name='my_experiment', tags={}>,\n",
       " <Experiment: artifact_location='mlflow-artifacts:/0', creation_time=1746885449570, experiment_id='0', last_update_time=1746885449570, lifecycle_stage='active', name='Default', tags={}>]"
      ]
     },
     "execution_count": 4,
     "metadata": {},
     "output_type": "execute_result"
    }
   ],
   "source": [
    "client.search_experiments()"
   ]
  },
  {
   "cell_type": "code",
   "execution_count": 5,
   "id": "bfc0edd9",
   "metadata": {},
   "outputs": [
    {
     "data": {
      "text/plain": [
       "'2'"
      ]
     },
     "execution_count": 5,
     "metadata": {},
     "output_type": "execute_result"
    }
   ],
   "source": [
    "client.create_experiment(\"cool_experiment\")"
   ]
  },
  {
   "cell_type": "code",
   "execution_count": 15,
   "id": "8ec5de31",
   "metadata": {},
   "outputs": [],
   "source": [
    "from mlflow.entities import ViewType\n",
    "\n",
    "runs = client.search_runs(\n",
    "    experiment_ids=[\"1\"],\n",
    "    filter_string=\"\",\n",
    "    run_view_type=ViewType.ACTIVE_ONLY,\n",
    "    max_results=5,\n",
    "    order_by=[\"metrics.rmse ASC\"]\n",
    ")"
   ]
  },
  {
   "cell_type": "code",
   "execution_count": 17,
   "id": "79ef7ba0",
   "metadata": {},
   "outputs": [
    {
     "data": {
      "text/plain": [
       "[<Run: data=<RunData: metrics={'rmse': 8.137900681701906}, params={'alpha': '0.01',\n",
       "  'train_path': 'data/yellow_tripdata_2023-01.parquet',\n",
       "  'val_path': 'data/yellow_tripdata_2023-02.parquet'}, tags={'developer': 'Duman',\n",
       "  'mlflow.runName': 'orderly-duck-662',\n",
       "  'mlflow.source.name': '/home/codespace/.local/lib/python3.12/site-packages/ipykernel_launcher.py',\n",
       "  'mlflow.source.type': 'LOCAL',\n",
       "  'mlflow.user': 'codespace'}>, info=<RunInfo: artifact_uri='/workspaces/mlops-zoomcamp/02-experiment-tracking/mlruns/1/8716abab92a94e249e04ae8df65193e2/artifacts', end_time=1746888188859, experiment_id='1', lifecycle_stage='active', run_id='8716abab92a94e249e04ae8df65193e2', run_name='orderly-duck-662', run_uuid='8716abab92a94e249e04ae8df65193e2', start_time=1746888162840, status='FINISHED', user_id='codespace'>, inputs=<RunInputs: dataset_inputs=[]>>,\n",
       " <Run: data=<RunData: metrics={'rmse': 20.71977313948911}, params={'learning_rate': '0.09585355369315604',\n",
       "  'max_depth': '30',\n",
       "  'min_child_weight': '1.060597050922164',\n",
       "  'objective': 'reg:linear',\n",
       "  'reg_alpha': '0.018060244040060163',\n",
       "  'reg_lambda': '0.011658731377413597',\n",
       "  'seed': '42'}, tags={'mlflow.log-model.history': '[{\"run_id\": \"5cba55ecfda14699b6eaca4639c03510\", '\n",
       "                              '\"artifact_path\": \"models_mlflow\", '\n",
       "                              '\"utc_time_created\": \"2025-05-10 '\n",
       "                              '16:01:15.180075\", \"model_uuid\": '\n",
       "                              '\"abfa3560fbd447c4acfc41b56891ca0c\", \"flavors\": '\n",
       "                              '{\"python_function\": {\"loader_module\": '\n",
       "                              '\"mlflow.xgboost\", \"python_version\": \"3.12.9\", '\n",
       "                              '\"data\": \"model.xgb\", \"env\": {\"conda\": '\n",
       "                              '\"conda.yaml\", \"virtualenv\": \"python_env.yaml\"}}, '\n",
       "                              '\"xgboost\": {\"xgb_version\": \"3.0.0\", \"data\": '\n",
       "                              '\"model.xgb\", \"model_class\": '\n",
       "                              '\"xgboost.core.Booster\", \"model_format\": \"xgb\", '\n",
       "                              '\"code\": null}}}]',\n",
       "  'mlflow.runName': 'angry-wolf-317',\n",
       "  'mlflow.source.name': '/home/codespace/.local/lib/python3.12/site-packages/ipykernel_launcher.py',\n",
       "  'mlflow.source.type': 'LOCAL',\n",
       "  'mlflow.user': 'codespace'}>, info=<RunInfo: artifact_uri='/workspaces/mlops-zoomcamp/02-experiment-tracking/mlruns/1/5cba55ecfda14699b6eaca4639c03510/artifacts', end_time=1746892880204, experiment_id='1', lifecycle_stage='active', run_id='5cba55ecfda14699b6eaca4639c03510', run_name='angry-wolf-317', run_uuid='5cba55ecfda14699b6eaca4639c03510', start_time=1746892524058, status='FINISHED', user_id='codespace'>, inputs=<RunInputs: dataset_inputs=[]>>,\n",
       " <Run: data=<RunData: metrics={'rmse': 20.71977313948911}, params={'learning_rate': '0.09585355369315604',\n",
       "  'max_depth': '30',\n",
       "  'min_child_weight': '1.060597050922164',\n",
       "  'objective': 'reg:linear',\n",
       "  'reg_alpha': '0.018060244040060163',\n",
       "  'reg_lambda': '0.011658731377413597',\n",
       "  'seed': '42'}, tags={'mlflow.runName': 'suave-shoat-486',\n",
       "  'mlflow.source.name': '/home/codespace/.local/lib/python3.12/site-packages/ipykernel_launcher.py',\n",
       "  'mlflow.source.type': 'LOCAL',\n",
       "  'mlflow.user': 'codespace'}>, info=<RunInfo: artifact_uri='/workspaces/mlops-zoomcamp/02-experiment-tracking/mlruns/1/d84ce5ef4a2b4728bf007a62daafd164/artifacts', end_time=1746892138862, experiment_id='1', lifecycle_stage='active', run_id='d84ce5ef4a2b4728bf007a62daafd164', run_name='suave-shoat-486', run_uuid='d84ce5ef4a2b4728bf007a62daafd164', start_time=1746891789931, status='FAILED', user_id='codespace'>, inputs=<RunInputs: dataset_inputs=[]>>,\n",
       " <Run: data=<RunData: metrics={}, params={'learning_rate': '0.09585355369315604',\n",
       "  'max_depth': '30',\n",
       "  'min_child_weight': '1.060597050922164',\n",
       "  'objective': 'reg:linear',\n",
       "  'reg_alpha': '0.018060244040060163',\n",
       "  'reg_lambda': '0.011658731377413597',\n",
       "  'seed': '42'}, tags={'mlflow.runName': 'loud-wolf-276',\n",
       "  'mlflow.source.name': '/home/codespace/.local/lib/python3.12/site-packages/ipykernel_launcher.py',\n",
       "  'mlflow.source.type': 'LOCAL',\n",
       "  'mlflow.user': 'codespace'}>, info=<RunInfo: artifact_uri='/workspaces/mlops-zoomcamp/02-experiment-tracking/mlruns/1/a1dde76dc9b149639d0659511b4c188c/artifacts', end_time=1746890569099, experiment_id='1', lifecycle_stage='active', run_id='a1dde76dc9b149639d0659511b4c188c', run_name='loud-wolf-276', run_uuid='a1dde76dc9b149639d0659511b4c188c', start_time=1746890216150, status='FAILED', user_id='codespace'>, inputs=<RunInputs: dataset_inputs=[]>>,\n",
       " <Run: data=<RunData: metrics={}, params={'learning_rate': '0.28037954020036276',\n",
       "  'max_depth': '76',\n",
       "  'min_child_weight': '0.4260691096112318',\n",
       "  'objective': 'reg:linear',\n",
       "  'reg_alpha': '0.27611850589092707',\n",
       "  'reg_lambda': '0.07194853068822103',\n",
       "  'seed': '42'}, tags={'mlflow.runName': 'treasured-crow-231',\n",
       "  'mlflow.source.name': '/home/codespace/.local/lib/python3.12/site-packages/ipykernel_launcher.py',\n",
       "  'mlflow.source.type': 'LOCAL',\n",
       "  'mlflow.user': 'codespace',\n",
       "  'model': 'xgboost'}>, info=<RunInfo: artifact_uri='/workspaces/mlops-zoomcamp/02-experiment-tracking/mlruns/1/b4ad0ffb5f4343fa9ea1f34f7d342ef0/artifacts', end_time=1746889143121, experiment_id='1', lifecycle_stage='active', run_id='b4ad0ffb5f4343fa9ea1f34f7d342ef0', run_name='treasured-crow-231', run_uuid='b4ad0ffb5f4343fa9ea1f34f7d342ef0', start_time=1746888923169, status='FAILED', user_id='codespace'>, inputs=<RunInputs: dataset_inputs=[]>>]"
      ]
     },
     "execution_count": 17,
     "metadata": {},
     "output_type": "execute_result"
    }
   ],
   "source": [
    "runs"
   ]
  },
  {
   "cell_type": "code",
   "execution_count": 19,
   "id": "65b325e3",
   "metadata": {},
   "outputs": [
    {
     "name": "stdout",
     "output_type": "stream",
     "text": [
      "8716abab92a94e249e04ae8df65193e2 8.137900681701906\n",
      "5cba55ecfda14699b6eaca4639c03510 20.71977313948911\n",
      "d84ce5ef4a2b4728bf007a62daafd164 20.71977313948911\n"
     ]
    },
    {
     "ename": "KeyError",
     "evalue": "'rmse'",
     "output_type": "error",
     "traceback": [
      "\u001b[31m---------------------------------------------------------------------------\u001b[39m",
      "\u001b[31mKeyError\u001b[39m                                  Traceback (most recent call last)",
      "\u001b[36mCell\u001b[39m\u001b[36m \u001b[39m\u001b[32mIn[19]\u001b[39m\u001b[32m, line 2\u001b[39m\n\u001b[32m      1\u001b[39m \u001b[38;5;28;01mfor\u001b[39;00m run \u001b[38;5;129;01min\u001b[39;00m runs:\n\u001b[32m----> \u001b[39m\u001b[32m2\u001b[39m     \u001b[38;5;28mprint\u001b[39m(run.info.run_id, \u001b[43mrun\u001b[49m\u001b[43m.\u001b[49m\u001b[43mdata\u001b[49m\u001b[43m.\u001b[49m\u001b[43mmetrics\u001b[49m\u001b[43m[\u001b[49m\u001b[33;43m\"\u001b[39;49m\u001b[33;43mrmse\u001b[39;49m\u001b[33;43m\"\u001b[39;49m\u001b[43m]\u001b[49m)\n",
      "\u001b[31mKeyError\u001b[39m: 'rmse'"
     ]
    }
   ],
   "source": [
    "for run in runs:\n",
    "    print(run.info.run_id, run.data.metrics[\"rmse\"])"
   ]
  },
  {
   "cell_type": "code",
   "execution_count": null,
   "id": "2c979eac",
   "metadata": {},
   "outputs": [
    {
     "data": {
      "text/plain": [
       "'2.22.0'"
      ]
     },
     "execution_count": 1,
     "metadata": {},
     "output_type": "execute_result"
    }
   ],
   "source": []
  },
  {
   "cell_type": "code",
   "execution_count": null,
   "id": "4e64e81c",
   "metadata": {},
   "outputs": [],
   "source": [
    "import mlflow\n",
    "mlflow.set_tracking_uri(\"sqlite:///mlflow.db\")"
   ]
  },
  {
   "cell_type": "code",
   "execution_count": 21,
   "id": "ee827c72",
   "metadata": {},
   "outputs": [],
   "source": [
    "run_id = \"8716abab92a94e249e04ae8df65193e2\"\n",
    "model_uri = f\"runs:/{run_id}/models\"\n",
    "  "
   ]
  },
  {
   "cell_type": "code",
   "execution_count": 22,
   "id": "16eda494",
   "metadata": {},
   "outputs": [
    {
     "name": "stderr",
     "output_type": "stream",
     "text": [
      "Successfully registered model 'xgboost_model'.\n",
      "Created version '1' of model 'xgboost_model'.\n"
     ]
    },
    {
     "data": {
      "text/plain": [
       "<ModelVersion: aliases=[], creation_timestamp=1747909333457, current_stage='None', description=None, last_updated_timestamp=1747909333457, name='xgboost_model', run_id='8716abab92a94e249e04ae8df65193e2', run_link=None, source='/workspaces/mlops-zoomcamp/02-experiment-tracking/mlruns/1/8716abab92a94e249e04ae8df65193e2/artifacts/models', status='READY', status_message=None, tags={}, user_id=None, version=1>"
      ]
     },
     "execution_count": 22,
     "metadata": {},
     "output_type": "execute_result"
    }
   ],
   "source": [
    "mlflow.register_model(model_uri=model_uri,name=\"xgboost_model\")"
   ]
  },
  {
   "cell_type": "code",
   "execution_count": 26,
   "id": "deba91b1",
   "metadata": {},
   "outputs": [
    {
     "data": {
      "text/plain": [
       "[<RegisteredModel: aliases={}, creation_timestamp=1747909333444, description=None, last_updated_timestamp=1747909333457, latest_versions=[<ModelVersion: aliases=[], creation_timestamp=1747909333457, current_stage='None', description=None, last_updated_timestamp=1747909333457, name='xgboost_model', run_id='8716abab92a94e249e04ae8df65193e2', run_link=None, source='/workspaces/mlops-zoomcamp/02-experiment-tracking/mlruns/1/8716abab92a94e249e04ae8df65193e2/artifacts/models', status='READY', status_message=None, tags={}, user_id=None, version=1>], name='xgboost_model', tags={}>]"
      ]
     },
     "execution_count": 26,
     "metadata": {},
     "output_type": "execute_result"
    }
   ],
   "source": [
    "client.search_registered_models()\n"
   ]
  },
  {
   "cell_type": "code",
   "execution_count": 27,
   "id": "4b223467",
   "metadata": {},
   "outputs": [
    {
     "name": "stderr",
     "output_type": "stream",
     "text": [
      "/tmp/ipykernel_5947/3924833676.py:2: FutureWarning: ``mlflow.tracking.client.MlflowClient.get_latest_versions`` is deprecated since 2.9.0. Model registry stages will be removed in a future major release. To learn more about the deprecation of model registry stages, see our migration guide here: https://mlflow.org/docs/latest/model-registry.html#migrating-from-stages\n",
      "  client.get_latest_versions(model_name)\n"
     ]
    },
    {
     "data": {
      "text/plain": [
       "[<ModelVersion: aliases=[], creation_timestamp=1747909333457, current_stage='None', description=None, last_updated_timestamp=1747909333457, name='xgboost_model', run_id='8716abab92a94e249e04ae8df65193e2', run_link=None, source='/workspaces/mlops-zoomcamp/02-experiment-tracking/mlruns/1/8716abab92a94e249e04ae8df65193e2/artifacts/models', status='READY', status_message=None, tags={}, user_id=None, version=1>]"
      ]
     },
     "execution_count": 27,
     "metadata": {},
     "output_type": "execute_result"
    }
   ],
   "source": [
    "model_name = \"xgboost_model\"\n",
    "client.get_latest_versions(model_name)"
   ]
  },
  {
   "cell_type": "code",
   "execution_count": 28,
   "id": "a3cdda8c",
   "metadata": {},
   "outputs": [
    {
     "name": "stderr",
     "output_type": "stream",
     "text": [
      "/tmp/ipykernel_5947/3328282924.py:1: FutureWarning: ``mlflow.tracking.client.MlflowClient.transition_model_version_stage`` is deprecated since 2.9.0. Model registry stages will be removed in a future major release. To learn more about the deprecation of model registry stages, see our migration guide here: https://mlflow.org/docs/latest/model-registry.html#migrating-from-stages\n",
      "  client.transition_model_version_stage(\n"
     ]
    },
    {
     "data": {
      "text/plain": [
       "<ModelVersion: aliases=[], creation_timestamp=1747909333457, current_stage='Staging', description=None, last_updated_timestamp=1747910534478, name='xgboost_model', run_id='8716abab92a94e249e04ae8df65193e2', run_link=None, source='/workspaces/mlops-zoomcamp/02-experiment-tracking/mlruns/1/8716abab92a94e249e04ae8df65193e2/artifacts/models', status='READY', status_message=None, tags={}, user_id=None, version=1>"
      ]
     },
     "execution_count": 28,
     "metadata": {},
     "output_type": "execute_result"
    }
   ],
   "source": [
    "client.transition_model_version_stage(\n",
    "    name=model_name,\n",
    "    version=1,\n",
    "    stage=\"Staging\",\n",
    "    archive_existing_versions=False\n",
    ")\n"
   ]
  },
  {
   "cell_type": "code",
   "execution_count": 29,
   "id": "5a698bac",
   "metadata": {},
   "outputs": [],
   "source": [
    "from sklearn.metrics import mean_squared_error\n",
    "import pandas as pd\n",
    "\n",
    "\n",
    "def read_dataframe(filename):\n",
    "    df = pd.read_csv(filename)\n",
    "\n",
    "    df.lpep_dropoff_datetime = pd.to_datetime(df.lpep_dropoff_datetime)\n",
    "    df.lpep_pickup_datetime = pd.to_datetime(df.lpep_pickup_datetime)\n",
    "\n",
    "    df['duration'] = df.lpep_dropoff_datetime - df.lpep_pickup_datetime\n",
    "    df.duration = df.duration.apply(lambda td: td.total_seconds() / 60)\n",
    "\n",
    "    df = df[(df.duration >= 1) & (df.duration <= 60)]\n",
    "\n",
    "    categorical = ['PULocationID', 'DOLocationID']\n",
    "    df[categorical] = df[categorical].astype(str)\n",
    "    \n",
    "    return df\n",
    "\n",
    "\n",
    "def preprocess(df, dv):\n",
    "    df['PU_DO'] = df['PULocationID'] + '_' + df['DOLocationID']\n",
    "    categorical = ['PU_DO']\n",
    "    numerical = ['trip_distance']\n",
    "    train_dicts = df[categorical + numerical].to_dict(orient='records')\n",
    "    return dv.transform(train_dicts)\n",
    "\n",
    "\n",
    "def test_model(name, stage, X_test, y_test):\n",
    "    model = mlflow.pyfunc.load_model(f\"models:/{name}/{stage}\")\n",
    "    y_pred = model.predict(X_test)\n",
    "    return {\"rmse\": mean_squared_error(y_test, y_pred, squared=False)}"
   ]
  },
  {
   "cell_type": "code",
   "execution_count": null,
   "id": "2d284c52",
   "metadata": {},
   "outputs": [],
   "source": [
    "df = read_dataframe(\"data/green_tripdata_2021-03.csv\")\n"
   ]
  },
  {
   "cell_type": "code",
   "execution_count": null,
   "id": "e53ea0c2",
   "metadata": {},
   "outputs": [],
   "source": [
    "client.download_artifacts(run_id=run_id, path='preprocessor', dst_path='.')\n"
   ]
  },
  {
   "cell_type": "code",
   "execution_count": null,
   "id": "4d0d3fe2",
   "metadata": {},
   "outputs": [],
   "source": [
    "import pickle\n",
    "\n",
    "with open(\"preprocessor/preprocessor.b\", \"rb\") as f_in:\n",
    "    dv = pickle.load(f_in)"
   ]
  },
  {
   "cell_type": "code",
   "execution_count": null,
   "id": "549ac94a",
   "metadata": {},
   "outputs": [],
   "source": [
    "X_test = preprocess(df, dv)\n",
    "target = \"duration\"\n",
    "y_test = df[target].values"
   ]
  },
  {
   "cell_type": "code",
   "execution_count": null,
   "id": "ab55913f",
   "metadata": {},
   "outputs": [],
   "source": [
    "%time test_model(name=model_name, stage=\"Production\", X_test=X_test, y_test=y_test)\n"
   ]
  },
  {
   "cell_type": "code",
   "execution_count": null,
   "id": "32f7fd0d",
   "metadata": {},
   "outputs": [],
   "source": [
    "%time test_model(name=model_name, stage=\"Staging\", X_test=X_test, y_test=y_test)\n"
   ]
  },
  {
   "cell_type": "code",
   "execution_count": null,
   "id": "8bcaead6",
   "metadata": {},
   "outputs": [],
   "source": [
    "client.transition_model_version_stage(\n",
    "    name=model_name,\n",
    "    version=4,\n",
    "    stage=\"Production\",\n",
    "    archive_existing_versions=True\n",
    ")"
   ]
  }
 ],
 "metadata": {
  "kernelspec": {
   "display_name": "exp-tracking-env",
   "language": "python",
   "name": "python3"
  },
  "language_info": {
   "codemirror_mode": {
    "name": "ipython",
    "version": 3
   },
   "file_extension": ".py",
   "mimetype": "text/x-python",
   "name": "python",
   "nbconvert_exporter": "python",
   "pygments_lexer": "ipython3",
   "version": "3.12.9"
  }
 },
 "nbformat": 4,
 "nbformat_minor": 5
}
